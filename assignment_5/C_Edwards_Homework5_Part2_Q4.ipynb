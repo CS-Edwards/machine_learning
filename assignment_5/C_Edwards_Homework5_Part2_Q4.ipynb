{
  "nbformat": 4,
  "nbformat_minor": 0,
  "metadata": {
    "colab": {
      "provenance": []
    },
    "kernelspec": {
      "name": "python3",
      "display_name": "Python 3"
    },
    "language_info": {
      "name": "python"
    }
  },
  "cells": [
    {
      "cell_type": "markdown",
      "source": [
        "### Candace Edwards\n",
        "### ICS 635: Homework 5\n",
        "### Part 1: [Notebook Link](https://colab.research.google.com/drive/1gz9EQGyhTAOqW9yYsHNSQSdA6yG7kMEE?usp=sharing)\n",
        "### Part 2: Q4: [Notebook Link](https://colab.research.google.com/drive/1AAUvfyM4YqTZeiikR8t99Se0Wn97afD6?usp=sharing)"
      ],
      "metadata": {
        "id": "KSeh5WDPAIaG"
      }
    },
    {
      "cell_type": "code",
      "source": [
        "! pip install tensorflow keras"
      ],
      "metadata": {
        "colab": {
          "base_uri": "https://localhost:8080/"
        },
        "id": "y-IHLXvAZ7eE",
        "outputId": "04cc23a8-071b-4a32-99a6-63e6a5a06c05"
      },
      "execution_count": null,
      "outputs": [
        {
          "output_type": "stream",
          "name": "stdout",
          "text": [
            "Looking in indexes: https://pypi.org/simple, https://us-python.pkg.dev/colab-wheels/public/simple/\n",
            "Requirement already satisfied: tensorflow in /usr/local/lib/python3.10/dist-packages (2.12.0)\n",
            "Requirement already satisfied: keras in /usr/local/lib/python3.10/dist-packages (2.12.0)\n",
            "Requirement already satisfied: absl-py>=1.0.0 in /usr/local/lib/python3.10/dist-packages (from tensorflow) (1.4.0)\n",
            "Requirement already satisfied: astunparse>=1.6.0 in /usr/local/lib/python3.10/dist-packages (from tensorflow) (1.6.3)\n",
            "Requirement already satisfied: flatbuffers>=2.0 in /usr/local/lib/python3.10/dist-packages (from tensorflow) (23.3.3)\n",
            "Requirement already satisfied: gast<=0.4.0,>=0.2.1 in /usr/local/lib/python3.10/dist-packages (from tensorflow) (0.4.0)\n",
            "Requirement already satisfied: google-pasta>=0.1.1 in /usr/local/lib/python3.10/dist-packages (from tensorflow) (0.2.0)\n",
            "Requirement already satisfied: grpcio<2.0,>=1.24.3 in /usr/local/lib/python3.10/dist-packages (from tensorflow) (1.54.0)\n",
            "Requirement already satisfied: h5py>=2.9.0 in /usr/local/lib/python3.10/dist-packages (from tensorflow) (3.8.0)\n",
            "Requirement already satisfied: jax>=0.3.15 in /usr/local/lib/python3.10/dist-packages (from tensorflow) (0.4.8)\n",
            "Requirement already satisfied: libclang>=13.0.0 in /usr/local/lib/python3.10/dist-packages (from tensorflow) (16.0.0)\n",
            "Requirement already satisfied: numpy<1.24,>=1.22 in /usr/local/lib/python3.10/dist-packages (from tensorflow) (1.22.4)\n",
            "Requirement already satisfied: opt-einsum>=2.3.2 in /usr/local/lib/python3.10/dist-packages (from tensorflow) (3.3.0)\n",
            "Requirement already satisfied: packaging in /usr/local/lib/python3.10/dist-packages (from tensorflow) (23.1)\n",
            "Requirement already satisfied: protobuf!=4.21.0,!=4.21.1,!=4.21.2,!=4.21.3,!=4.21.4,!=4.21.5,<5.0.0dev,>=3.20.3 in /usr/local/lib/python3.10/dist-packages (from tensorflow) (3.20.3)\n",
            "Requirement already satisfied: setuptools in /usr/local/lib/python3.10/dist-packages (from tensorflow) (67.7.2)\n",
            "Requirement already satisfied: six>=1.12.0 in /usr/local/lib/python3.10/dist-packages (from tensorflow) (1.16.0)\n",
            "Requirement already satisfied: tensorboard<2.13,>=2.12 in /usr/local/lib/python3.10/dist-packages (from tensorflow) (2.12.2)\n",
            "Requirement already satisfied: tensorflow-estimator<2.13,>=2.12.0 in /usr/local/lib/python3.10/dist-packages (from tensorflow) (2.12.0)\n",
            "Requirement already satisfied: termcolor>=1.1.0 in /usr/local/lib/python3.10/dist-packages (from tensorflow) (2.3.0)\n",
            "Requirement already satisfied: typing-extensions>=3.6.6 in /usr/local/lib/python3.10/dist-packages (from tensorflow) (4.5.0)\n",
            "Requirement already satisfied: wrapt<1.15,>=1.11.0 in /usr/local/lib/python3.10/dist-packages (from tensorflow) (1.14.1)\n",
            "Requirement already satisfied: tensorflow-io-gcs-filesystem>=0.23.1 in /usr/local/lib/python3.10/dist-packages (from tensorflow) (0.32.0)\n",
            "Requirement already satisfied: wheel<1.0,>=0.23.0 in /usr/local/lib/python3.10/dist-packages (from astunparse>=1.6.0->tensorflow) (0.40.0)\n",
            "Requirement already satisfied: ml-dtypes>=0.0.3 in /usr/local/lib/python3.10/dist-packages (from jax>=0.3.15->tensorflow) (0.1.0)\n",
            "Requirement already satisfied: scipy>=1.7 in /usr/local/lib/python3.10/dist-packages (from jax>=0.3.15->tensorflow) (1.10.1)\n",
            "Requirement already satisfied: google-auth<3,>=1.6.3 in /usr/local/lib/python3.10/dist-packages (from tensorboard<2.13,>=2.12->tensorflow) (2.17.3)\n",
            "Requirement already satisfied: google-auth-oauthlib<1.1,>=0.5 in /usr/local/lib/python3.10/dist-packages (from tensorboard<2.13,>=2.12->tensorflow) (1.0.0)\n",
            "Requirement already satisfied: markdown>=2.6.8 in /usr/local/lib/python3.10/dist-packages (from tensorboard<2.13,>=2.12->tensorflow) (3.4.3)\n",
            "Requirement already satisfied: requests<3,>=2.21.0 in /usr/local/lib/python3.10/dist-packages (from tensorboard<2.13,>=2.12->tensorflow) (2.27.1)\n",
            "Requirement already satisfied: tensorboard-data-server<0.8.0,>=0.7.0 in /usr/local/lib/python3.10/dist-packages (from tensorboard<2.13,>=2.12->tensorflow) (0.7.0)\n",
            "Requirement already satisfied: tensorboard-plugin-wit>=1.6.0 in /usr/local/lib/python3.10/dist-packages (from tensorboard<2.13,>=2.12->tensorflow) (1.8.1)\n",
            "Requirement already satisfied: werkzeug>=1.0.1 in /usr/local/lib/python3.10/dist-packages (from tensorboard<2.13,>=2.12->tensorflow) (2.3.0)\n",
            "Requirement already satisfied: cachetools<6.0,>=2.0.0 in /usr/local/lib/python3.10/dist-packages (from google-auth<3,>=1.6.3->tensorboard<2.13,>=2.12->tensorflow) (5.3.0)\n",
            "Requirement already satisfied: pyasn1-modules>=0.2.1 in /usr/local/lib/python3.10/dist-packages (from google-auth<3,>=1.6.3->tensorboard<2.13,>=2.12->tensorflow) (0.3.0)\n",
            "Requirement already satisfied: rsa<5,>=3.1.4 in /usr/local/lib/python3.10/dist-packages (from google-auth<3,>=1.6.3->tensorboard<2.13,>=2.12->tensorflow) (4.9)\n",
            "Requirement already satisfied: requests-oauthlib>=0.7.0 in /usr/local/lib/python3.10/dist-packages (from google-auth-oauthlib<1.1,>=0.5->tensorboard<2.13,>=2.12->tensorflow) (1.3.1)\n",
            "Requirement already satisfied: urllib3<1.27,>=1.21.1 in /usr/local/lib/python3.10/dist-packages (from requests<3,>=2.21.0->tensorboard<2.13,>=2.12->tensorflow) (1.26.15)\n",
            "Requirement already satisfied: certifi>=2017.4.17 in /usr/local/lib/python3.10/dist-packages (from requests<3,>=2.21.0->tensorboard<2.13,>=2.12->tensorflow) (2022.12.7)\n",
            "Requirement already satisfied: charset-normalizer~=2.0.0 in /usr/local/lib/python3.10/dist-packages (from requests<3,>=2.21.0->tensorboard<2.13,>=2.12->tensorflow) (2.0.12)\n",
            "Requirement already satisfied: idna<4,>=2.5 in /usr/local/lib/python3.10/dist-packages (from requests<3,>=2.21.0->tensorboard<2.13,>=2.12->tensorflow) (3.4)\n",
            "Requirement already satisfied: MarkupSafe>=2.1.1 in /usr/local/lib/python3.10/dist-packages (from werkzeug>=1.0.1->tensorboard<2.13,>=2.12->tensorflow) (2.1.2)\n",
            "Requirement already satisfied: pyasn1<0.6.0,>=0.4.6 in /usr/local/lib/python3.10/dist-packages (from pyasn1-modules>=0.2.1->google-auth<3,>=1.6.3->tensorboard<2.13,>=2.12->tensorflow) (0.5.0)\n",
            "Requirement already satisfied: oauthlib>=3.0.0 in /usr/local/lib/python3.10/dist-packages (from requests-oauthlib>=0.7.0->google-auth-oauthlib<1.1,>=0.5->tensorboard<2.13,>=2.12->tensorflow) (3.2.2)\n"
          ]
        }
      ]
    },
    {
      "cell_type": "code",
      "execution_count": null,
      "metadata": {
        "id": "_D4YS_tHa6Fr"
      },
      "outputs": [],
      "source": [
        "from sklearn import datasets\n",
        "from sklearn.model_selection import train_test_split\n",
        "from sklearn.metrics import f1_score\n",
        "\n",
        "import cv2\n",
        "\n",
        "faces = datasets.fetch_olivetti_faces()\n",
        "\n",
        "import tensorflow as tf\n",
        "from tensorflow.keras import datasets, layers, models, utils\n",
        "\n",
        "import numpy as np\n",
        "import matplotlib.pyplot as plt\n",
        "import seaborn as sns\n",
        "import pandas as pd"
      ]
    },
    {
      "cell_type": "code",
      "source": [
        "###\n",
        "### Load the dataset.\n",
        "###\n",
        "\n",
        "X_grey = faces['images']\n",
        "y = faces['target']\n",
        "\n",
        "X = []\n",
        "for a in X_grey:\n",
        "  image_rgb = cv2.cvtColor(a, cv2.COLOR_GRAY2RGB) \n",
        "  X.append(image_rgb)\n",
        "X = np.array(X)\n",
        "\n",
        "y = utils.to_categorical(\n",
        "    y, num_classes=40, dtype='float32'\n",
        ")\n",
        "\n",
        "\n",
        "###\n",
        "### Split data into train and test sets. Do not change. For reference only.\n",
        "###\n",
        "\n",
        "X_train, X_test, y_train, y_test = train_test_split(\n",
        "    X, y, test_size=0.25, random_state=42\n",
        ")"
      ],
      "metadata": {
        "id": "VEr65fEmdF2r"
      },
      "execution_count": null,
      "outputs": []
    },
    {
      "cell_type": "code",
      "source": [
        "###\n",
        "### Sourced from class notes\n",
        "###\n",
        "def plot_acc(history, ax = None, xlabel = 'Epoch #'):\n",
        "    if hasattr(history, 'history_'):\n",
        "      history = history.history_\n",
        "    else:\n",
        "      history = history.history\n",
        "    history.update({'epoch':list(range(len(history['val_accuracy'])))})\n",
        "    history = pd.DataFrame.from_dict(history)\n",
        "\n",
        "    best_epoch = history.sort_values(by = 'val_accuracy', ascending = False).iloc[0]['epoch']\n",
        "\n",
        "    if not ax:\n",
        "      f, ax = plt.subplots(1,1)\n",
        "    sns.lineplot(x = 'epoch', y = 'val_accuracy', data = history, label = 'Validation', ax = ax)\n",
        "    sns.lineplot(x = 'epoch', y = 'accuracy', data = history, label = 'Training', ax = ax)\n",
        "    ax.axhline(0.5, linestyle = '--',color='red', label = 'Chance')\n",
        "    ax.axvline(x = best_epoch, linestyle = '--', color = 'green', label = 'Best Epoch')  \n",
        "    ax.legend(loc = 7)    \n",
        "    ax.set_ylim([0.4, 1])\n",
        "\n",
        "    ax.set_xlabel(xlabel)\n",
        "    ax.set_ylabel('Accuracy (Fraction)')\n",
        "    \n",
        "    plt.show()"
      ],
      "metadata": {
        "id": "ETXUhssXZgwV"
      },
      "execution_count": null,
      "outputs": []
    },
    {
      "cell_type": "code",
      "source": [
        "###\n",
        "### CNN Implementation\n",
        "### \n",
        "\n",
        "def get_neural_network(X_train, y_train):\n",
        "  \"\"\"\n",
        "  Define, train, and return the neural network.\n",
        "\n",
        "  You may replace this code with any TensorFlow model that you wish.\n",
        "  \"\"\"\n",
        "\n",
        "  model = models.Sequential()\n",
        "  model.add(layers.Conv2D(65, (3, 3), activation='relu', input_shape=(64, 64, 3)))\n",
        "  ##model.add(layers.Conv2D(128, (3, 3), activation='relu', input_shape=(64, 64, 3)))\n",
        "\n",
        "  model.add(layers.MaxPooling2D((2, 2)))\n",
        "  model.add(layers.Dropout(0.05)) #added dropout layer [0.05,0.15,0.15,0.05,0.07]\n",
        "  '''\n",
        "  model.add(layers.Conv2D(64, (3, 3), activation='relu')) \n",
        "  '''\n",
        "  #changed to paddin =same\n",
        "  model.add(layers.Conv2D(64,(3,3), activation ='relu', padding=\"same\"))\n",
        "  model.add(layers.MaxPooling2D((2, 2)))\n",
        "  model.add(layers.Dropout(0.005)) #[0.005, 0.15,0.20,0.005,0.05]\n",
        "\n",
        "  #model.add(layers.Conv2D(64, (3, 3), activation='relu'))\n",
        "  model.add(layers.Conv2D(32, (3, 3), activation='relu'))\n",
        "  model.add(layers.MaxPooling2D((2, 2)))\n",
        "  model.add(layers.Dropout(0.005)) #[0.0005, 0.15,0.30]\n",
        "  ##\n",
        "  model.add(layers.Flatten())\n",
        "  model.add(layers.Dense(64, activation='relu'))\n",
        "  model.add(layers.Dense(40, activation='softmax'))\n",
        "\n",
        "  model.compile(optimizer='adam',\n",
        "              loss=tf.keras.losses.CategoricalCrossentropy(from_logits=False),\n",
        "              metrics=['accuracy'])\n",
        "  \n",
        "  model.fit(X_train, y_train, \n",
        "          epochs=34)\n",
        "  \n",
        "\n",
        "  \n",
        "\n",
        "  # #validation data: resplit traininging data\n",
        "  # X_train, X_val,y_train,y_val = train_test_split(X_train,y_train,test_size= 0.25,random_state=10)\n",
        "\n",
        "  # history = model.fit(X_train, y_train, \\\n",
        "  #                   validation_data=(X_val, y_val), \\\n",
        "  #                   epochs=40)\n",
        "  # plot_acc(history)\n",
        "  # ##\n",
        "\n",
        "  return model"
      ],
      "metadata": {
        "id": "P-ZKfHQLdF7K"
      },
      "execution_count": null,
      "outputs": []
    },
    {
      "cell_type": "code",
      "source": [
        "###\n",
        "### Train the neural network.\n",
        "###\n",
        "\n",
        "model = get_neural_network(X_train, y_train)"
      ],
      "metadata": {
        "id": "7_v1eMKJdF98",
        "colab": {
          "base_uri": "https://localhost:8080/"
        },
        "outputId": "1bb6ea84-5bb6-49db-dfd0-7ff60576e663"
      },
      "execution_count": null,
      "outputs": [
        {
          "output_type": "stream",
          "name": "stdout",
          "text": [
            "Epoch 1/34\n",
            "10/10 [==============================] - 5s 379ms/step - loss: 3.7020 - accuracy: 0.0367\n",
            "Epoch 2/34\n",
            "10/10 [==============================] - 5s 538ms/step - loss: 3.6887 - accuracy: 0.0300\n",
            "Epoch 3/34\n",
            "10/10 [==============================] - 4s 376ms/step - loss: 3.6872 - accuracy: 0.0233\n",
            "Epoch 4/34\n",
            "10/10 [==============================] - 4s 366ms/step - loss: 3.6812 - accuracy: 0.0467\n",
            "Epoch 5/34\n",
            "10/10 [==============================] - 5s 530ms/step - loss: 3.6758 - accuracy: 0.0267\n",
            "Epoch 6/34\n",
            "10/10 [==============================] - 4s 363ms/step - loss: 3.6707 - accuracy: 0.0367\n",
            "Epoch 7/34\n",
            "10/10 [==============================] - 4s 371ms/step - loss: 3.6608 - accuracy: 0.0733\n",
            "Epoch 8/34\n",
            "10/10 [==============================] - 5s 533ms/step - loss: 3.6502 - accuracy: 0.0333\n",
            "Epoch 9/34\n",
            "10/10 [==============================] - 4s 363ms/step - loss: 3.6167 - accuracy: 0.0567\n",
            "Epoch 10/34\n",
            "10/10 [==============================] - 4s 369ms/step - loss: 3.5504 - accuracy: 0.0533\n",
            "Epoch 11/34\n",
            "10/10 [==============================] - 6s 636ms/step - loss: 3.3509 - accuracy: 0.1233\n",
            "Epoch 12/34\n",
            "10/10 [==============================] - 4s 395ms/step - loss: 3.1081 - accuracy: 0.1600\n",
            "Epoch 13/34\n",
            "10/10 [==============================] - 4s 370ms/step - loss: 2.7392 - accuracy: 0.2733\n",
            "Epoch 14/34\n",
            "10/10 [==============================] - 4s 405ms/step - loss: 2.1422 - accuracy: 0.4400\n",
            "Epoch 15/34\n",
            "10/10 [==============================] - 5s 454ms/step - loss: 1.7623 - accuracy: 0.5367\n",
            "Epoch 16/34\n",
            "10/10 [==============================] - 4s 369ms/step - loss: 1.3453 - accuracy: 0.6267\n",
            "Epoch 17/34\n",
            "10/10 [==============================] - 4s 374ms/step - loss: 1.3684 - accuracy: 0.6200\n",
            "Epoch 18/34\n",
            "10/10 [==============================] - 5s 511ms/step - loss: 0.9997 - accuracy: 0.7467\n",
            "Epoch 19/34\n",
            "10/10 [==============================] - 4s 367ms/step - loss: 0.8564 - accuracy: 0.7367\n",
            "Epoch 20/34\n",
            "10/10 [==============================] - 4s 365ms/step - loss: 0.6803 - accuracy: 0.8100\n",
            "Epoch 21/34\n",
            "10/10 [==============================] - 5s 525ms/step - loss: 0.4695 - accuracy: 0.8767\n",
            "Epoch 22/34\n",
            "10/10 [==============================] - 4s 359ms/step - loss: 0.4808 - accuracy: 0.8567\n",
            "Epoch 23/34\n",
            "10/10 [==============================] - 4s 368ms/step - loss: 0.4862 - accuracy: 0.8567\n",
            "Epoch 24/34\n",
            "10/10 [==============================] - 6s 583ms/step - loss: 0.3250 - accuracy: 0.9100\n",
            "Epoch 25/34\n",
            "10/10 [==============================] - 4s 369ms/step - loss: 0.2805 - accuracy: 0.9100\n",
            "Epoch 26/34\n",
            "10/10 [==============================] - 4s 371ms/step - loss: 0.2819 - accuracy: 0.9067\n",
            "Epoch 27/34\n",
            "10/10 [==============================] - 5s 535ms/step - loss: 0.3014 - accuracy: 0.9133\n",
            "Epoch 28/34\n",
            "10/10 [==============================] - 4s 384ms/step - loss: 0.1883 - accuracy: 0.9500\n",
            "Epoch 29/34\n",
            "10/10 [==============================] - 4s 381ms/step - loss: 0.1988 - accuracy: 0.9433\n",
            "Epoch 30/34\n",
            "10/10 [==============================] - 5s 521ms/step - loss: 0.1615 - accuracy: 0.9467\n",
            "Epoch 31/34\n",
            "10/10 [==============================] - 4s 368ms/step - loss: 0.0782 - accuracy: 0.9800\n",
            "Epoch 32/34\n",
            "10/10 [==============================] - 4s 368ms/step - loss: 0.0814 - accuracy: 0.9867\n",
            "Epoch 33/34\n",
            "10/10 [==============================] - 5s 460ms/step - loss: 0.0821 - accuracy: 0.9800\n",
            "Epoch 34/34\n",
            "10/10 [==============================] - 5s 521ms/step - loss: 0.0796 - accuracy: 0.9800\n"
          ]
        }
      ]
    },
    {
      "cell_type": "code",
      "source": [
        "###\n",
        "### Get the result on the test set.\n",
        "###\n",
        "\n",
        "y_pred = model.predict(X_test).argmax(1)\n",
        "y_true = y_test.argmax(1)\n",
        "\n",
        "print('Predicted values: ', y_pred)\n",
        "print('Actual values: ', y_true)\n",
        "\n",
        "print('F1 score: ', f1_score(y_true, y_pred, average='weighted'))"
      ],
      "metadata": {
        "id": "j_4wPjRYlGbW",
        "colab": {
          "base_uri": "https://localhost:8080/"
        },
        "outputId": "d17025d5-20fe-4063-ac17-55874f6fd66c"
      },
      "execution_count": null,
      "outputs": [
        {
          "output_type": "stream",
          "name": "stdout",
          "text": [
            "4/4 [==============================] - 1s 123ms/step\n",
            "Predicted values:  [20 28  3 21  9  8 32  9 26 12  0 36  5  7 13  4 27 37 23 38  7  1 39 25\n",
            "  0 20 11 22 26 14 39  3 26  5 23 11  8 34 15 14  9  5  7 36  8 38 14 18\n",
            "  2 17  4 32 33  7 37  3 22 22  3 15 12 29 36 20 10  3 35 26 39  7 32 14\n",
            "  0  4 38 24 22 36 17 28 12  1 20 36 27  6 24 30 10  9 23 33 11 22 18 31\n",
            " 37 38 23 15]\n",
            "Actual values:  [20 28  3 21  9  8 32  9 26 12  0 36  5  7 13  4 27 37 23 38  7  1 39 27\n",
            "  0 39 11 22 26 10 39 19 26  5 23 11 11 34 15 14 38  5  7  2  8 38 14 18\n",
            "  2 17  4 32 33  7 37  3 22 17  3 15 12 29 25  7 10  3 35 26 39  7 32 14\n",
            "  0  4 38 24 22 36 17 28  0  1 20 25 27  6 24 30 10  9 23 33 11 22 18 31\n",
            " 37 38 23  7]\n",
            "F1 score:  0.8662698412698413\n"
          ]
        }
      ]
    },
    {
      "cell_type": "code",
      "source": [
        "###\n",
        "### Save model and weights. These will be used for grading.\n",
        "### The weights will be downloaded to your computer. Use Chrome.\n",
        "###\n",
        "\n",
        "# TODO: CHANGE TO YOUR NAME \n",
        "student_name = 'candace_edwards'\n",
        "\n",
        "model.save(student_name + '_model.h5')\n",
        "\n",
        "from google.colab import files\n",
        "files.download(student_name + '_model.h5') "
      ],
      "metadata": {
        "id": "Wab0A4JbqJi2"
      },
      "execution_count": null,
      "outputs": []
    }
  ]
}