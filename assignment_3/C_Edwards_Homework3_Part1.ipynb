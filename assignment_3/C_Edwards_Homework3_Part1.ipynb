{
  "nbformat": 4,
  "nbformat_minor": 0,
  "metadata": {
    "colab": {
      "provenance": []
    },
    "kernelspec": {
      "name": "python3",
      "display_name": "Python 3"
    },
    "language_info": {
      "name": "python"
    }
  },
  "cells": [
    {
      "cell_type": "code",
      "execution_count": null,
      "metadata": {
        "id": "i9Judc0LnsTB"
      },
      "outputs": [],
      "source": [
        "import math\n",
        "import pandas as pd\n"
      ]
    },
    {
      "cell_type": "markdown",
      "source": [
        "### Candace Edwards\n",
        "### ICS 635: Homework 3\n",
        "### Part 1: [Notebook Link](https://colab.research.google.com/drive/1-eZpLjKrIeZWRoG72aAoMoUhj-XzCADT?usp=sharing)\n",
        "### Part 2: Q5: [Notebook Link](https://colab.research.google.com/drive/1MztRKe71QXnAzQXrKwDlsXthgVMCeXUU?usp=sharing)"
      ],
      "metadata": {
        "id": "6ZWds7ZLoRdb"
      }
    },
    {
      "cell_type": "markdown",
      "source": [
        "#### Question 1: Regularization\n",
        "\n",
        "\\begin{equation}\n",
        "\\boldsymbol{\\theta}_A = \\begin{bmatrix}\n",
        "0.42 \\\\\n",
        "2.85 \\\\\n",
        "11.21 \\\\\n",
        "\\end{bmatrix}\n",
        "\\end{equation}\n",
        "\n",
        "\\begin{equation}\n",
        "\\boldsymbol{\\theta}_B = \\begin{bmatrix}\n",
        "98.22 \\\\\n",
        "-42.11 \\\\\n",
        "12.92 \\\\\n",
        "\\end{bmatrix}\n",
        "\\end{equation}\n",
        "\n",
        "The first run, $\\boldsymbol{\\theta}_A$, is likely the result of λ=1, because regularization dampened the learned parameter values. When λ=0, the model is only minimizing the loss function, with no regularizaion, so it learned parameters ($\\boldsymbol{\\theta}_B$) that is likely biased to the training data. When λ=1, the parameters are more generalized."
      ],
      "metadata": {
        "id": "oSjw9d8eoqjF"
      }
    },
    {
      "cell_type": "markdown",
      "source": [
        "#### Question 2: K- Nearest Neighbor"
      ],
      "metadata": {
        "id": "CwJWGTm0u353"
      }
    },
    {
      "cell_type": "code",
      "source": [
        "def calc_dist(x1_1,x2_1,x1_2,x2_2):\n",
        "  '''\n",
        "  Calculate the Euclidian distance between two points\n",
        "  '''\n",
        "  distance = math.sqrt((x1_2 - x1_1)**2 + (x2_2 - x2_1)**2)\n",
        "  return distance"
      ],
      "metadata": {
        "id": "LGUX12Fru3TH"
      },
      "execution_count": null,
      "outputs": []
    },
    {
      "cell_type": "code",
      "source": [
        "#test (3,4)(6,8) #expected 5\n",
        "#print(calc_dist(3,4,6,8))"
      ],
      "metadata": {
        "id": "iaXPEdY9oRSw"
      },
      "execution_count": null,
      "outputs": []
    },
    {
      "cell_type": "code",
      "source": [
        "x1 = [0,0,0,5,5,5,10,10,10]\n",
        "x2 = [0,5,10,0,5,10,0,5,10]\n",
        "y =[1,1,0,1,1,0,0,0,0]\n",
        "data = zip(x1,x2)"
      ],
      "metadata": {
        "id": "DXR559v0wkd-"
      },
      "execution_count": null,
      "outputs": []
    },
    {
      "cell_type": "code",
      "source": [
        "x3= [calc_dist(d[0],d[1],6,6) for d in data]"
      ],
      "metadata": {
        "id": "EemQblWZxkYk"
      },
      "execution_count": null,
      "outputs": []
    },
    {
      "cell_type": "code",
      "source": [
        "df = pd.DataFrame({\n",
        "    'x1':x1,\n",
        "    'x2':x2,\n",
        "    'y':y,\n",
        "    'distance from (6,6)':x3\n",
        "})"
      ],
      "metadata": {
        "id": "D95u7-fuxcCf"
      },
      "execution_count": null,
      "outputs": []
    },
    {
      "cell_type": "code",
      "source": [
        "df"
      ],
      "metadata": {
        "colab": {
          "base_uri": "https://localhost:8080/",
          "height": 332
        },
        "id": "Qe1rWya9y3t7",
        "outputId": "78d84dc0-50d7-41a0-fe05-cbb870f55735"
      },
      "execution_count": null,
      "outputs": [
        {
          "output_type": "execute_result",
          "data": {
            "text/plain": [
              "   x1  x2  y  distance from (6,6)\n",
              "0   0   0  1             8.485281\n",
              "1   0   5  1             6.082763\n",
              "2   0  10  0             7.211103\n",
              "3   5   0  1             6.082763\n",
              "4   5   5  1             1.414214\n",
              "5   5  10  0             4.123106\n",
              "6  10   0  0             7.211103\n",
              "7  10   5  0             4.123106\n",
              "8  10  10  0             5.656854"
            ],
            "text/html": [
              "\n",
              "  <div id=\"df-a7aaec6f-7876-4472-a3bc-a1a565f8cc2a\">\n",
              "    <div class=\"colab-df-container\">\n",
              "      <div>\n",
              "<style scoped>\n",
              "    .dataframe tbody tr th:only-of-type {\n",
              "        vertical-align: middle;\n",
              "    }\n",
              "\n",
              "    .dataframe tbody tr th {\n",
              "        vertical-align: top;\n",
              "    }\n",
              "\n",
              "    .dataframe thead th {\n",
              "        text-align: right;\n",
              "    }\n",
              "</style>\n",
              "<table border=\"1\" class=\"dataframe\">\n",
              "  <thead>\n",
              "    <tr style=\"text-align: right;\">\n",
              "      <th></th>\n",
              "      <th>x1</th>\n",
              "      <th>x2</th>\n",
              "      <th>y</th>\n",
              "      <th>distance from (6,6)</th>\n",
              "    </tr>\n",
              "  </thead>\n",
              "  <tbody>\n",
              "    <tr>\n",
              "      <th>0</th>\n",
              "      <td>0</td>\n",
              "      <td>0</td>\n",
              "      <td>1</td>\n",
              "      <td>8.485281</td>\n",
              "    </tr>\n",
              "    <tr>\n",
              "      <th>1</th>\n",
              "      <td>0</td>\n",
              "      <td>5</td>\n",
              "      <td>1</td>\n",
              "      <td>6.082763</td>\n",
              "    </tr>\n",
              "    <tr>\n",
              "      <th>2</th>\n",
              "      <td>0</td>\n",
              "      <td>10</td>\n",
              "      <td>0</td>\n",
              "      <td>7.211103</td>\n",
              "    </tr>\n",
              "    <tr>\n",
              "      <th>3</th>\n",
              "      <td>5</td>\n",
              "      <td>0</td>\n",
              "      <td>1</td>\n",
              "      <td>6.082763</td>\n",
              "    </tr>\n",
              "    <tr>\n",
              "      <th>4</th>\n",
              "      <td>5</td>\n",
              "      <td>5</td>\n",
              "      <td>1</td>\n",
              "      <td>1.414214</td>\n",
              "    </tr>\n",
              "    <tr>\n",
              "      <th>5</th>\n",
              "      <td>5</td>\n",
              "      <td>10</td>\n",
              "      <td>0</td>\n",
              "      <td>4.123106</td>\n",
              "    </tr>\n",
              "    <tr>\n",
              "      <th>6</th>\n",
              "      <td>10</td>\n",
              "      <td>0</td>\n",
              "      <td>0</td>\n",
              "      <td>7.211103</td>\n",
              "    </tr>\n",
              "    <tr>\n",
              "      <th>7</th>\n",
              "      <td>10</td>\n",
              "      <td>5</td>\n",
              "      <td>0</td>\n",
              "      <td>4.123106</td>\n",
              "    </tr>\n",
              "    <tr>\n",
              "      <th>8</th>\n",
              "      <td>10</td>\n",
              "      <td>10</td>\n",
              "      <td>0</td>\n",
              "      <td>5.656854</td>\n",
              "    </tr>\n",
              "  </tbody>\n",
              "</table>\n",
              "</div>\n",
              "      <button class=\"colab-df-convert\" onclick=\"convertToInteractive('df-a7aaec6f-7876-4472-a3bc-a1a565f8cc2a')\"\n",
              "              title=\"Convert this dataframe to an interactive table.\"\n",
              "              style=\"display:none;\">\n",
              "        \n",
              "  <svg xmlns=\"http://www.w3.org/2000/svg\" height=\"24px\"viewBox=\"0 0 24 24\"\n",
              "       width=\"24px\">\n",
              "    <path d=\"M0 0h24v24H0V0z\" fill=\"none\"/>\n",
              "    <path d=\"M18.56 5.44l.94 2.06.94-2.06 2.06-.94-2.06-.94-.94-2.06-.94 2.06-2.06.94zm-11 1L8.5 8.5l.94-2.06 2.06-.94-2.06-.94L8.5 2.5l-.94 2.06-2.06.94zm10 10l.94 2.06.94-2.06 2.06-.94-2.06-.94-.94-2.06-.94 2.06-2.06.94z\"/><path d=\"M17.41 7.96l-1.37-1.37c-.4-.4-.92-.59-1.43-.59-.52 0-1.04.2-1.43.59L10.3 9.45l-7.72 7.72c-.78.78-.78 2.05 0 2.83L4 21.41c.39.39.9.59 1.41.59.51 0 1.02-.2 1.41-.59l7.78-7.78 2.81-2.81c.8-.78.8-2.07 0-2.86zM5.41 20L4 18.59l7.72-7.72 1.47 1.35L5.41 20z\"/>\n",
              "  </svg>\n",
              "      </button>\n",
              "      \n",
              "  <style>\n",
              "    .colab-df-container {\n",
              "      display:flex;\n",
              "      flex-wrap:wrap;\n",
              "      gap: 12px;\n",
              "    }\n",
              "\n",
              "    .colab-df-convert {\n",
              "      background-color: #E8F0FE;\n",
              "      border: none;\n",
              "      border-radius: 50%;\n",
              "      cursor: pointer;\n",
              "      display: none;\n",
              "      fill: #1967D2;\n",
              "      height: 32px;\n",
              "      padding: 0 0 0 0;\n",
              "      width: 32px;\n",
              "    }\n",
              "\n",
              "    .colab-df-convert:hover {\n",
              "      background-color: #E2EBFA;\n",
              "      box-shadow: 0px 1px 2px rgba(60, 64, 67, 0.3), 0px 1px 3px 1px rgba(60, 64, 67, 0.15);\n",
              "      fill: #174EA6;\n",
              "    }\n",
              "\n",
              "    [theme=dark] .colab-df-convert {\n",
              "      background-color: #3B4455;\n",
              "      fill: #D2E3FC;\n",
              "    }\n",
              "\n",
              "    [theme=dark] .colab-df-convert:hover {\n",
              "      background-color: #434B5C;\n",
              "      box-shadow: 0px 1px 3px 1px rgba(0, 0, 0, 0.15);\n",
              "      filter: drop-shadow(0px 1px 2px rgba(0, 0, 0, 0.3));\n",
              "      fill: #FFFFFF;\n",
              "    }\n",
              "  </style>\n",
              "\n",
              "      <script>\n",
              "        const buttonEl =\n",
              "          document.querySelector('#df-a7aaec6f-7876-4472-a3bc-a1a565f8cc2a button.colab-df-convert');\n",
              "        buttonEl.style.display =\n",
              "          google.colab.kernel.accessAllowed ? 'block' : 'none';\n",
              "\n",
              "        async function convertToInteractive(key) {\n",
              "          const element = document.querySelector('#df-a7aaec6f-7876-4472-a3bc-a1a565f8cc2a');\n",
              "          const dataTable =\n",
              "            await google.colab.kernel.invokeFunction('convertToInteractive',\n",
              "                                                     [key], {});\n",
              "          if (!dataTable) return;\n",
              "\n",
              "          const docLinkHtml = 'Like what you see? Visit the ' +\n",
              "            '<a target=\"_blank\" href=https://colab.research.google.com/notebooks/data_table.ipynb>data table notebook</a>'\n",
              "            + ' to learn more about interactive tables.';\n",
              "          element.innerHTML = '';\n",
              "          dataTable['output_type'] = 'display_data';\n",
              "          await google.colab.output.renderOutput(dataTable, element);\n",
              "          const docLink = document.createElement('div');\n",
              "          docLink.innerHTML = docLinkHtml;\n",
              "          element.appendChild(docLink);\n",
              "        }\n",
              "      </script>\n",
              "    </div>\n",
              "  </div>\n",
              "  "
            ]
          },
          "metadata": {},
          "execution_count": 18
        }
      ]
    },
    {
      "cell_type": "markdown",
      "source": [
        "Using Euclidean distance to calculate the distance between that data and new point (6,6), and assuming the distances are unweighted/uniform:\n",
        "\n",
        "* When `k=1`, (6,6) would be classified as `y=1`, because it's closest neighbor \n",
        "is point (5,5), which is also classifed as `y=1`.\n",
        "\n",
        "* When `k=3`, (6,6) would be classifed as `y=0`, because the second/third nearest neighbors (5,10) and (10,5) are classified as `y=0`. The `y=0` label wins by 2/3 majority. "
      ],
      "metadata": {
        "id": "6C1nCh8IzVe7"
      }
    },
    {
      "cell_type": "code",
      "source": [],
      "metadata": {
        "id": "gCUXOMK41fX5"
      },
      "execution_count": null,
      "outputs": []
    },
    {
      "cell_type": "markdown",
      "source": [
        "#### Question 3: Decision Trees"
      ],
      "metadata": {
        "id": "k1-dkCoq13Vu"
      }
    },
    {
      "cell_type": "markdown",
      "source": [
        "The full (hand-written) calculations for the tree are attached as a pdf. The information gain calculation to determin the root/base of the tree is as follows:\n",
        "\n",
        "\n",
        "\n",
        "*   Foggy: 0.4591\n",
        "*   **Excess Gasoline: 0.7670**\n",
        "*   Runway Too Close: 0\n",
        "*   Too High: 0.0261\n",
        "\n",
        "From this calculation, Excess Gasoline was selected as the base of the tree. Splitting on Excess Gasoline yielded on pure crash branch, so I did not continue calculations for subset Excess Gasoline = no. \n",
        "\n",
        "For subset Excess Gasoline = yes, Foggy had an information gain of 1, which naturally indicates the next splitting parameter. Foggy produced two pure nodes foggy = yes = crash, foggy = no = no crash. This is the end of the tree. The other features in the data did not provide additional information gain, so the result is a pre-pruned tree.\n"
      ],
      "metadata": {
        "id": "HUIdYKLxMQR2"
      }
    },
    {
      "cell_type": "markdown",
      "source": [
        "                       **Excess Gas** \n",
        "                           /\\\n",
        "                          /  \\\n",
        "                         /    \\\n",
        "                 ** Foggy**   crash\n",
        "                       /\\\n",
        "                      /  \\\n",
        "                     /    \\\n",
        "                    crash  no crash"
      ],
      "metadata": {
        "id": "GRqPwSEqLXEA"
      }
    },
    {
      "cell_type": "markdown",
      "source": [
        "#### Question 4: Support Vector Machines\n",
        "\n",
        "The equation of the line describing the decision boundary for a hard margin SVM trained on the given dataset is:\n",
        "\n",
        "$$ \\mathbf{w}^\\mathrm{T} \\mathbf{x} + b = 0 $$"
      ],
      "metadata": {
        "id": "NHYRnffbIjDs"
      }
    }
  ]
}