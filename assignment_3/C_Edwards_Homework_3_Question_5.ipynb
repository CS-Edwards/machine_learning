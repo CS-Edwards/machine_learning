{
  "nbformat": 4,
  "nbformat_minor": 0,
  "metadata": {
    "colab": {
      "provenance": []
    },
    "kernelspec": {
      "name": "python3",
      "display_name": "Python 3"
    },
    "language_info": {
      "name": "python"
    }
  },
  "cells": [
    {
      "cell_type": "code",
      "execution_count": null,
      "metadata": {
        "id": "w0V6Cw-35lVs"
      },
      "outputs": [],
      "source": [
        "###\n",
        "### Code imports.\n",
        "###\n",
        "\n",
        "import numpy as np"
      ]
    },
    {
      "cell_type": "markdown",
      "source": [
        "### Candace Edwards\n",
        "### ICS 635: Homework 3\n",
        "### Part 1: [Notebook Link](https://colab.research.google.com/drive/1-eZpLjKrIeZWRoG72aAoMoUhj-XzCADT?usp=sharing)\n",
        "### Part 2: Q5: [Notebook Link](https://colab.research.google.com/drive/1MztRKe71QXnAzQXrKwDlsXthgVMCeXUU?usp=sharing)"
      ],
      "metadata": {
        "id": "lQAabm23-pde"
      }
    },
    {
      "cell_type": "code",
      "source": [
        "class NaiveBayesClassifier:\n",
        "  def __init__(self, smoothing_parameter):\n",
        "    '''\n",
        "    Input a smoothing parameter beta.\n",
        "    '''\n",
        "    self.smoothing_parameter = smoothing_parameter\n",
        "\n",
        "  def fit(self, X_train, y_train):\n",
        "    '''\n",
        "    Each row in X_train respresents a sentence. \n",
        "    X_train[i][0] is an indicator of the word \"free\".\n",
        "    X_train[i][1] is an indicator of the word \"dear\".\n",
        "    X_train[i][2] is an indicator of the word \"sincerely\".\n",
        "\n",
        "    Each row in y_train represents the corresponding classification of each row\n",
        "    in X_train. 0 = not spam, 1 = spam.\n",
        "    '''\n",
        "\n",
        "    ### Calculate prior probabilities (no smoothing).\n",
        "    self.prob_spam = sum(y_train ==1) / len(y_train)  \n",
        "    self.prob_nospam = abs(1 - self.prob_spam)\n",
        "    print(self.prob_spam) # expected 0.5\n",
        "    print(self.prob_nospam) # expected 0.5\n",
        "\n",
        "    ### Calculate conditional probabilities (use smoothing).\n",
        "    classes = len(np.unique(y_train)) #for multinomial classification\n",
        "    #print(classes) #expected 2\n",
        "\n",
        "    '''\n",
        "    SPAM \n",
        "    '''\n",
        "    self.prob_free_given_spam = (sum(X_train[:,0][y_train == 1])+ (self.smoothing_parameter))/ (sum(y_train == 1) + (classes * self.smoothing_parameter))\n",
        "    self.prob_dear_given_spam = (sum(X_train[:,1][y_train == 1])+ (self.smoothing_parameter))/ (sum(y_train == 1) + (classes * self.smoothing_parameter))\n",
        "    self.prob_sincerely_given_spam = (sum(X_train[:,2][y_train == 1])+ (self.smoothing_parameter))/ (sum(y_train == 1) + (classes * self.smoothing_parameter))\n",
        "    \n",
        "\n",
        "    #print(self.prob_free_given_spam) #Expected: 0.9997\n",
        "    #print(self.prob_dear_given_spam) #Expected: 0.5\n",
        "    #print(self.prob_sincerely_given_spam) #Expected: 0.749\n",
        "\n",
        "\n",
        "    self.prob_nofree_given_spam = abs(1 - self.prob_free_given_spam) \n",
        "    self.prob_nodear_given_spam = abs(1 - self.prob_dear_given_spam) \n",
        "    self.prob_nosincerely_given_spam = abs(1 - self.prob_sincerely_given_spam) \n",
        "\n",
        "    '''\n",
        "    NOT SPAM \n",
        "    '''\n",
        "\n",
        "    self.prob_free_given_nospam =(sum(X_train[:,0][y_train == 0])+ (self.smoothing_parameter))/ (sum(y_train == 0) + (classes * self.smoothing_parameter))\n",
        "    self.prob_dear_given_nospam = (sum(X_train[:,1][y_train == 0])+ (self.smoothing_parameter))/ (sum(y_train == 0) + (classes * self.smoothing_parameter))\n",
        "    self.prob_sincerely_given_nospam = (sum(X_train[:,2][y_train == 0])+ (self.smoothing_parameter))/ (sum(y_train == 0) + (classes * self.smoothing_parameter))\n",
        "\n",
        "    self.prob_nofree_given_nospam = abs(1-self.prob_free_given_nospam)\n",
        "    self.prob_nodear_given_nospam = abs(1 - self.prob_dear_given_nospam )\n",
        "    self.prob_nosincerely_given_nospam = abs(1-self.prob_sincerely_given_nospam)\n",
        "\n",
        "  def predict(self, x_test):\n",
        "    '''\n",
        "    Make a prediction of either spam (1) or not spam (0) for a single test data point x_test.\n",
        "\n",
        "    Return a tuple of form \n",
        "    (prediction of 0 or 1, \n",
        "    numerator [of Bayes Rule] of probability of not spam from 0 to 1, \n",
        "    numerator [of Bayes Rule] of probability of spam from 0 to 1)\n",
        "    '''\n",
        "    prob_spam = self.prob_spam * (self.prob_free_given_spam if x_test[0] == 1 else self.prob_nofree_given_spam ) \\\n",
        "                * (self.prob_dear_given_spam if x_test[1] else self.prob_nodear_given_spam ) \\\n",
        "                * (self.prob_sincerely_given_spam if x_test[2] else self.prob_nosincerely_given_spam )\n",
        "\n",
        "    prob_nospam = self.prob_nospam * (self.prob_free_given_nospam if x_test[0] == 1 else self.prob_nofree_given_nospam ) \\\n",
        "                * (self.prob_dear_given_nospam if x_test[1] else self.prob_nodear_given_nospam ) \\\n",
        "                * (self.prob_sincerely_given_nospam if x_test[2] else self.prob_nosincerely_given_nospam )\n",
        "\n",
        "    if prob_spam > prob_nospam:\n",
        "      return (1, prob_nospam, prob_spam)\n",
        "    else:\n",
        "      return (0, prob_nospam, prob_spam)\n",
        "\n"
      ],
      "metadata": {
        "id": "f4LlHG3w5shy"
      },
      "execution_count": null,
      "outputs": []
    },
    {
      "cell_type": "code",
      "source": [
        "def unit_test():\n",
        "  '''\n",
        "  Test your solution.\n",
        "  '''\n",
        "  X_train = np.array([[1,1,1], \n",
        "                      [1,1,0],\n",
        "                      [0,0,0],\n",
        "                      [0,1,0],\n",
        "                      [1,0,1],\n",
        "                      [1,0,1],\n",
        "                      [0,1,0],\n",
        "                      [0,1,1]])\n",
        "  y_train = np.array([ 1, 1, 0, 0, 1, 1, 0, 0 ])\n",
        "  clf = NaiveBayesClassifier(0.001)\n",
        "  clf.fit(X_train, y_train)\n",
        "\n",
        "  X_test = np.array([[1,0,0], \n",
        "                     [1,0,1],\n",
        "                     [0,1,1],\n",
        "                     [0,0,1]])\n",
        "  \n",
        "  print('Expected output: ')\n",
        "  print_str = '''\n",
        "(1, 2.3433589849604016e-05, 0.06251560938671095)\n",
        "(1, 7.816402345702639e-06, 0.1874219218476719)\n",
        "(0, 0.09375779298826566, 4.6843769519538096e-05)\n",
        "(0, 0.03127342578515625, 4.6843769519538096e-05)\n",
        "  '''\n",
        "  print(print_str)\n",
        "\n",
        "  print('Actual output: \\n')\n",
        "  for x_test in X_test:\n",
        "    print(clf.predict(x_test))\n",
        "\n",
        "unit_test()"
      ],
      "metadata": {
        "id": "TjuwxxcY5slT",
        "colab": {
          "base_uri": "https://localhost:8080/"
        },
        "outputId": "d2c2521a-b79a-441f-8fe4-fc08661c62fa"
      },
      "execution_count": null,
      "outputs": [
        {
          "output_type": "stream",
          "name": "stdout",
          "text": [
            "0.5\n",
            "0.5\n",
            "Expected output: \n",
            "\n",
            "(1, 2.3433589849604016e-05, 0.06251560938671095)\n",
            "(1, 7.816402345702639e-06, 0.1874219218476719)\n",
            "(0, 0.09375779298826566, 4.6843769519538096e-05)\n",
            "(0, 0.03127342578515625, 4.6843769519538096e-05)\n",
            "  \n",
            "Actual output: \n",
            "\n",
            "(1, 2.3433589849604003e-05, 0.06251560938671094)\n",
            "(1, 7.816402345702636e-06, 0.1874219218476719)\n",
            "(0, 0.09375779298826564, 4.6843769519516764e-05)\n",
            "(0, 0.03127342578515624, 4.6843769519516764e-05)\n"
          ]
        }
      ]
    }
  ]
}