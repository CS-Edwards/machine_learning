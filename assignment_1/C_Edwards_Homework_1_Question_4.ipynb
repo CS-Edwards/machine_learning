{
  "nbformat": 4,
  "nbformat_minor": 0,
  "metadata": {
    "colab": {
      "provenance": []
    },
    "kernelspec": {
      "name": "python3",
      "display_name": "Python 3"
    },
    "language_info": {
      "name": "python"
    }
  },
  "cells": [
    {
      "cell_type": "markdown",
      "source": [
        "Candace Edwards <br>\n",
        "ICS 635: Machine Learning <br>\n",
        "Homework 1 <br>\n",
        "Part 1: Q1- Q3 in [C.Edwards_Homework 1 Question 1_to_3.ipynb](https://colab.research.google.com/drive/1EHRTn9QxOTSeGwqzbTzw4DYMvWVjnd-B?usp=sharing) <br>\n",
        "Part 2: Q4 "
      ],
      "metadata": {
        "id": "41uf3kSOGgxm"
      }
    },
    {
      "cell_type": "markdown",
      "source": [
        "Implement a function for (a) accuracy and (b) 10-fold cross validation using any provided dataset. Fill in the calculate_accuracy and run_ten_fold_cross_validation function templates below. \n",
        "\n",
        "You may not import any Python library apart from the imports which are already provided below. This includes sub-libraries (i.e., you cannot use sklearn beyond the svm module used in the helper functions)."
      ],
      "metadata": {
        "id": "3snNkeep6cDd"
      }
    },
    {
      "cell_type": "code",
      "source": [
        "###\n",
        "### Code imports.\n",
        "###\n",
        "\n",
        "import numpy as np\n",
        "from sklearn import svm\n",
        "from sklearn.datasets import load_iris"
      ],
      "metadata": {
        "id": "-0WeEGFq7xIb"
      },
      "execution_count": 1,
      "outputs": []
    },
    {
      "cell_type": "code",
      "source": [
        "def validate_row(X,y):\n",
        "  '''\n",
        "  Raise ValueError if array input length(rows) is not equal\n",
        "  '''\n",
        "  if X.shape[0] != y.shape[0]:\n",
        "        raise ValueError(\"Input arrays X and y must have the same number of rows\")"
      ],
      "metadata": {
        "id": "H06cvIXD54Hh"
      },
      "execution_count": 2,
      "outputs": []
    },
    {
      "cell_type": "code",
      "execution_count": 3,
      "metadata": {
        "id": "DlVjvJ436PEf"
      },
      "outputs": [],
      "source": [
        "def train_model(X_train, y_train):\n",
        "  '''\n",
        "  Helper function which returns a trained model given a training \n",
        "  set (X_train, y_train).\n",
        "  '''\n",
        "  clf = svm.SVC()\n",
        "  clf.fit(X_train, y_train)\n",
        "  return clf\n",
        "\n",
        "def make_predictions(model, X_test):\n",
        "  '''\n",
        "  Helper function which returns a NumPy array of predictions given\n",
        "  a model and a set of data points X_test.\n",
        "  '''\n",
        "  return model.predict(X_test)"
      ]
    },
    {
      "cell_type": "code",
      "source": [
        "def calculate_accuracy(y_true, y_pred):\n",
        "  '''\n",
        "  Question 4a\n",
        "  Accuracy = (true values)/(true values + not true values)\n",
        "  '''\n",
        "  validate_row(y_true,y_pred)\n",
        "  \n",
        "  true_val, not_true_val = [0] *2\n",
        "\n",
        "  for y_hat,y in zip(y_pred,y_true):\n",
        "    \n",
        "    #print((y_hat,y))\n",
        "    if (y_hat == y):\n",
        "      true_val += 1\n",
        "      continue\n",
        "\n",
        "    elif(y_hat != y):\n",
        "      not_true_val +=1\n",
        "      continue\n",
        "     \n",
        "    else:\n",
        "      print('should_not_reach')\n",
        "  \n",
        "\n",
        "  return ((true_val)/(true_val+not_true_val))*100"
      ],
      "metadata": {
        "id": "iPSMMyAGHlsU"
      },
      "execution_count": 4,
      "outputs": []
    },
    {
      "cell_type": "code",
      "source": [
        "def unit_test_calculate_accuracy():\n",
        "  '''\n",
        "  Test your solution.\n",
        "  '''\n",
        "  y_true = np.array([0, 0, 0, 1, 1, 1, 2, 2, 2])\n",
        "  y_pred = np.array([0, 0, 1, 1, 2, 1, 0, 1, 2])\n",
        "  accuracy = calculate_accuracy(y_true, y_pred)\n",
        "  \n",
        "  print('Calculated accuracy: ', accuracy)\n",
        "  print('Expected accuracy: 55.55555555555556')\n",
        "\n",
        "unit_test_calculate_accuracy()"
      ],
      "metadata": {
        "colab": {
          "base_uri": "https://localhost:8080/"
        },
        "id": "1Dkg4V-mL1zL",
        "outputId": "16bba5c0-b07d-4260-d34b-b7318f99911f"
      },
      "execution_count": 5,
      "outputs": [
        {
          "output_type": "stream",
          "name": "stdout",
          "text": [
            "Calculated accuracy:  55.55555555555556\n",
            "Expected accuracy: 55.55555555555556\n"
          ]
        }
      ]
    },
    {
      "cell_type": "code",
      "source": [
        "def run_ten_fold_cross_validation(X, y,n=10):\n",
        "  '''\n",
        "  Question 4b.\n",
        "  **Extra Credit**\n",
        "  n = number of folds, k\n",
        "  '''\n",
        "  validate_row(X,y)\n",
        "  accuracy = np.empty(n)\n",
        "  fold = len(X)/n\n",
        "\n",
        "  for i in range(n):\n",
        "\n",
        "    #first itr\n",
        "    if i == 0:\n",
        "      #print('first_itr')\n",
        "      test_start = 0\n",
        "      test_end = int(fold) \n",
        "\n",
        "      train_start= int(fold)\n",
        "      train_end = len(X)\n",
        "\n",
        "      test_data_x=X[test_start:test_end]\n",
        "      train_data_x=X[train_start: train_end]\n",
        "\n",
        "      test_data_y=y[test_start:test_end]\n",
        "      train_data_y=y[train_start: train_end]\n",
        "\n",
        "      #train model\n",
        "      model = train_model(train_data_x, train_data_y)\n",
        "      #test \n",
        "      y_pred = make_predictions(model, test_data_x)\n",
        "      #calc accuracy\n",
        "      accuracy[i] = calculate_accuracy(test_data_y, y_pred)\n",
        "      continue\n",
        "\n",
        "\n",
        "    #last itr\n",
        "    if i==(n-1):\n",
        "      #print('last_itr')\n",
        "      test_start = test_end\n",
        "      test_end = len(X)\n",
        "\n",
        "      train_start = 0\n",
        "      train_end = test_start\n",
        "\n",
        "      test_data_x=X[test_start:test_end]\n",
        "      train_data_x=X[train_start: train_end]\n",
        "\n",
        "      test_data_y=y[test_start:test_end]\n",
        "      train_data_y=y[train_start: train_end]\n",
        "\n",
        "      #train model\n",
        "      model = train_model(train_data_x, train_data_y)\n",
        "\n",
        "      #test \n",
        "      y_pred = make_predictions(model, test_data_x)\n",
        "\n",
        "      #calc accuracy\n",
        "      accuracy[i] = calculate_accuracy(test_data_y, y_pred) \n",
        "      continue\n",
        "\n",
        "\n",
        "    #normal itr\n",
        "    #print (f\"normal_itr {i}\")\n",
        "    test_start = test_end\n",
        "    test_end = int(fold)*(i+1)\n",
        "\n",
        "    train_start= 0\n",
        "    train_end = test_start\n",
        "\n",
        "    train_start_2= test_end\n",
        "    train_end_2 = len(X)\n",
        "\n",
        "    test_data_x=X[test_start:test_end]\n",
        "    train_data_x= np.concatenate((X[train_start: train_end],X[train_start_2: train_end_2]))\n",
        "\n",
        "    test_data_y=y[test_start:test_end]\n",
        "    train_data_y= np.concatenate((y[train_start: train_end],y[train_start_2: train_end_2]))\n",
        "\n",
        "    #train model\n",
        "    model = train_model(train_data_x, train_data_y)\n",
        "\n",
        "    #test \n",
        "    y_pred = make_predictions(model, test_data_x)\n",
        "\n",
        "    #calc accuracy\n",
        "    accuracy[i] = calculate_accuracy(test_data_y, y_pred)\n",
        "\n",
        "\n",
        "  return np.mean(accuracy), np.std(accuracy)"
      ],
      "metadata": {
        "id": "-_KOjX2sHmC3"
      },
      "execution_count": 6,
      "outputs": []
    },
    {
      "cell_type": "code",
      "source": [
        "def unit_test_cross_validation_example():\n",
        "  '''\n",
        "  Test your solution.\n",
        "  '''\n",
        "\n",
        "  X, y = load_iris(return_X_y=True)\n",
        "  mean_accuracy, std_accuracy = run_ten_fold_cross_validation(X, y)\n",
        "\n",
        "  #print(X.shape)\n",
        "  #print(y.shape)\n",
        "\n",
        "  print('Mean accuracy: ', mean_accuracy, ' +/- ', std_accuracy)\n",
        "  print('Expected mean and standard deviation: 93.33333333333334  +/-  7.302967433402213')\n",
        "\n",
        "unit_test_cross_validation_example()\n"
      ],
      "metadata": {
        "colab": {
          "base_uri": "https://localhost:8080/"
        },
        "id": "IT2U9umW7bKv",
        "outputId": "a7b57c89-77b2-4297-929e-16fd5a1cb8f2"
      },
      "execution_count": 7,
      "outputs": [
        {
          "output_type": "stream",
          "name": "stdout",
          "text": [
            "Mean accuracy:  93.33333333333334  +/-  7.302967433402213\n",
            "Expected mean and standard deviation: 93.33333333333334  +/-  7.302967433402213\n"
          ]
        }
      ]
    },
    {
      "cell_type": "markdown",
      "source": [
        "\n",
        "\n",
        "---\n",
        "\n",
        "\n",
        "---\n",
        "\n",
        "\n",
        "\n",
        "---\n",
        "\n"
      ],
      "metadata": {
        "id": "33zWMSHe4FMv"
      }
    },
    {
      "cell_type": "markdown",
      "source": [
        "SANDBOX \n"
      ],
      "metadata": {
        "id": "3qFSZHkTzSzi"
      }
    },
    {
      "cell_type": "code",
      "source": [
        "##sandbox"
      ],
      "metadata": {
        "id": "DN0C8pUJEcUo"
      },
      "execution_count": 8,
      "outputs": []
    },
    {
      "cell_type": "code",
      "source": [
        "test_arr = np.array([0,1,2,3,4,5,6,7,8,9])"
      ],
      "metadata": {
        "id": "tkY7CQeeG99T"
      },
      "execution_count": 9,
      "outputs": []
    },
    {
      "cell_type": "code",
      "source": [
        "#split data\n",
        "\n",
        "fold = len(test_arr)/10\n",
        "print(fold)\n",
        "\n",
        "#first itr\n",
        "test_start = 0\n",
        "test_end = int(fold) #exclusive\n",
        "\n",
        "train_start= int(fold)\n",
        "train_end = len(test_arr)\n",
        "\n",
        "test_data=test_arr[test_start:test_end]\n",
        "train_data=test_arr[train_start: train_end]\n",
        "\n",
        "print(test_data) #expected 0\n",
        "print(train_data) #expected 1,2,3,4,5,6,7,8,9"
      ],
      "metadata": {
        "id": "yzsWjJMeCVa0",
        "outputId": "9c0fc51e-da82-48cf-bda7-115a76a3496b",
        "colab": {
          "base_uri": "https://localhost:8080/"
        }
      },
      "execution_count": 10,
      "outputs": [
        {
          "output_type": "stream",
          "name": "stdout",
          "text": [
            "1.0\n",
            "[0]\n",
            "[1 2 3 4 5 6 7 8 9]\n"
          ]
        }
      ]
    },
    {
      "cell_type": "code",
      "source": [
        "#second itr (two train variables)\n",
        "\n",
        "test_start = test_end\n",
        "test_end = int(fold)*2 #i+1\n",
        "\n",
        "train_start= 0\n",
        "train_end = test_start\n",
        "\n",
        "train_start_2= test_end\n",
        "train_end_2 = len(test_arr)\n",
        "\n",
        "test_data=test_arr[test_start:test_end]\n",
        "train_data= np.concatenate((test_arr[train_start: train_end],test_arr[train_start_2: train_end_2]))\n",
        "\n",
        "print(test_data) #expected 1\n",
        "print(train_data) #expected 0,2,3,4,5,6,7,8,9\n"
      ],
      "metadata": {
        "colab": {
          "base_uri": "https://localhost:8080/"
        },
        "id": "RDEDK-6AEFQT",
        "outputId": "8c266292-47f1-4bbf-894e-78ba6d0b6943"
      },
      "execution_count": 11,
      "outputs": [
        {
          "output_type": "stream",
          "name": "stdout",
          "text": [
            "[1]\n",
            "[0 2 3 4 5 6 7 8 9]\n"
          ]
        }
      ]
    },
    {
      "cell_type": "code",
      "source": [
        "#third itr (two train variables)\n",
        "\n",
        "test_start = test_end\n",
        "test_end = int(fold)*3 #i+1\n",
        "\n",
        "train_start= 0 #stays same\n",
        "train_end = test_start #stays same\n",
        "\n",
        "train_start_2= test_end\n",
        "train_end_2 = len(test_arr)\n",
        "\n",
        "test_data=test_arr[test_start:test_end]\n",
        "train_data= np.concatenate((test_arr[train_start: train_end],test_arr[train_start_2: train_end_2]))\n",
        "\n",
        "print(test_data) #expected 2\n",
        "print(train_data) #expected 0,1,3,4,5,6,7,8,9\n"
      ],
      "metadata": {
        "outputId": "89665e7b-b218-4196-a640-337e5aebaeca",
        "colab": {
          "base_uri": "https://localhost:8080/"
        },
        "id": "-vXmizIcIJ3j"
      },
      "execution_count": 12,
      "outputs": [
        {
          "output_type": "stream",
          "name": "stdout",
          "text": [
            "[2]\n",
            "[0 1 3 4 5 6 7 8 9]\n"
          ]
        }
      ]
    },
    {
      "cell_type": "code",
      "source": [
        "#last itr (two train variables) -- DNU_fixed in loop\n",
        "\n",
        "test_start = test_end\n",
        "test_end = int(fold)*9 #i+1\n",
        "\n",
        "train_start= 0\n",
        "train_end = test_start\n",
        "\n",
        "train_start_2= test_end\n",
        "train_end_2 = len(test_arr)\n",
        "\n",
        "test_data=test_arr[test_start:test_end]\n",
        "train_data= np.concatenate((test_arr[train_start: train_end],test_arr[train_start_2: train_end_2]))\n",
        "\n",
        "print(test_data) #expected 9\n",
        "print(train_data) #expected 0,1,2,3,4,5,6,7,8\n"
      ],
      "metadata": {
        "outputId": "b1f9c095-a32a-45a4-900b-65993daa2a0a",
        "colab": {
          "base_uri": "https://localhost:8080/"
        },
        "id": "Kx1w09xAJQsQ"
      },
      "execution_count": 13,
      "outputs": [
        {
          "output_type": "stream",
          "name": "stdout",
          "text": [
            "[3 4 5 6 7 8]\n",
            "[0 1 2 9]\n"
          ]
        }
      ]
    },
    {
      "cell_type": "code",
      "source": [
        "test_arr = np.array([0,1,2,3,4,5,6,7,8,9])\n",
        "n = 10 #k\n",
        "\n",
        "fold = len(test_arr)/n\n",
        "\n",
        "\n",
        "for i in range(n):\n",
        "\n",
        "  #first itr\n",
        "  if i == 0:\n",
        "    print('first_itr')\n",
        "    test_start = 0\n",
        "    test_end = int(fold) #exclusive\n",
        "\n",
        "    train_start= int(fold)\n",
        "    train_end = len(test_arr)\n",
        "\n",
        "    test_data=test_arr[test_start:test_end]\n",
        "    train_data=test_arr[train_start: train_end]\n",
        "\n",
        "    print(test_data) #expected 0\n",
        "    print(train_data) #expected 1,2,3,4,5,6,7,8,9\n",
        "    continue\n",
        "\n",
        "\n",
        "  #last itr\n",
        "  if i==(n-1):\n",
        "    print('last_itr')\n",
        "    test_start = test_end\n",
        "    test_end = len(test_arr)\n",
        "\n",
        "    train_start = 0\n",
        "    train_end = test_start\n",
        "\n",
        "    test_data=test_arr[test_start:test_end] #expected 9\n",
        "    train_data=test_arr[train_start: train_end] #expected 0,1,2,3,4,5,6,7,8\n",
        "\n",
        "    print(test_data) \n",
        "    print(train_data) \n",
        "    continue\n",
        "\n",
        "\n",
        "  #normal itr\n",
        "  print (f\"normal_itr {i}\")\n",
        "  test_start = test_end\n",
        "  test_end = int(fold)*(i+1)\n",
        "\n",
        "  train_start= 0\n",
        "  train_end = test_start\n",
        "\n",
        "  train_start_2= test_end\n",
        "  train_end_2 = len(test_arr)\n",
        "\n",
        "  test_data=test_arr[test_start:test_end]\n",
        "  train_data= np.concatenate((test_arr[train_start: train_end],test_arr[train_start_2: train_end_2]))\n",
        "\n",
        "  print(test_data) \n",
        "  print(train_data) \n",
        "\n",
        "\n"
      ],
      "metadata": {
        "colab": {
          "base_uri": "https://localhost:8080/"
        },
        "id": "bJTarqvoMfxL",
        "outputId": "a57deaf4-d716-4835-8424-fa596f773084"
      },
      "execution_count": 14,
      "outputs": [
        {
          "output_type": "stream",
          "name": "stdout",
          "text": [
            "first_itr\n",
            "[0]\n",
            "[1 2 3 4 5 6 7 8 9]\n",
            "normal_itr 1\n",
            "[1]\n",
            "[0 2 3 4 5 6 7 8 9]\n",
            "normal_itr 2\n",
            "[2]\n",
            "[0 1 3 4 5 6 7 8 9]\n",
            "normal_itr 3\n",
            "[3]\n",
            "[0 1 2 4 5 6 7 8 9]\n",
            "normal_itr 4\n",
            "[4]\n",
            "[0 1 2 3 5 6 7 8 9]\n",
            "normal_itr 5\n",
            "[5]\n",
            "[0 1 2 3 4 6 7 8 9]\n",
            "normal_itr 6\n",
            "[6]\n",
            "[0 1 2 3 4 5 7 8 9]\n",
            "normal_itr 7\n",
            "[7]\n",
            "[0 1 2 3 4 5 6 8 9]\n",
            "normal_itr 8\n",
            "[8]\n",
            "[0 1 2 3 4 5 6 7 9]\n",
            "last_itr\n",
            "[9]\n",
            "[0 1 2 3 4 5 6 7 8]\n"
          ]
        }
      ]
    },
    {
      "cell_type": "code",
      "source": [],
      "metadata": {
        "id": "jtmRS2AKrRx2"
      },
      "execution_count": 14,
      "outputs": []
    },
    {
      "cell_type": "code",
      "source": [
        "\n",
        "test_x =  np.random.rand(10,4)\n",
        "test_y=   np.random.rand(10)"
      ],
      "metadata": {
        "id": "unNJcFTMpOgd"
      },
      "execution_count": 15,
      "outputs": []
    },
    {
      "cell_type": "code",
      "source": [
        "test_x"
      ],
      "metadata": {
        "id": "rLT5teLdpp93",
        "outputId": "072f8cdc-96ed-4ae9-f6e4-39c0ee574b3c",
        "colab": {
          "base_uri": "https://localhost:8080/"
        }
      },
      "execution_count": 16,
      "outputs": [
        {
          "output_type": "execute_result",
          "data": {
            "text/plain": [
              "array([[0.56394974, 0.4486378 , 0.96050791, 0.37737529],\n",
              "       [0.60853602, 0.99754772, 0.71637545, 0.65864016],\n",
              "       [0.30326468, 0.41438253, 0.74578926, 0.6053464 ],\n",
              "       [0.41291428, 0.38097108, 0.27554814, 0.33320661],\n",
              "       [0.16100696, 0.61029589, 0.66300431, 0.15373862],\n",
              "       [0.76763114, 0.70987423, 0.27570109, 0.38466996],\n",
              "       [0.70388512, 0.21540596, 0.17672332, 0.03015071],\n",
              "       [0.68575693, 0.02159981, 0.9029085 , 0.04814467],\n",
              "       [0.86012752, 0.84736786, 0.92304548, 0.19965203],\n",
              "       [0.78967181, 0.4360335 , 0.87410469, 0.56536933]])"
            ]
          },
          "metadata": {},
          "execution_count": 16
        }
      ]
    },
    {
      "cell_type": "code",
      "source": [
        "#test with two input arrays\n",
        "n = 10 #k\n",
        "fold = len(test_arr)/n\n",
        "\n",
        "\n",
        "for i in range(n):\n",
        "\n",
        "  #first itr\n",
        "  if i == 0:\n",
        "    print('first_itr')\n",
        "    test_start = 0\n",
        "    test_end = int(fold) #exclusive\n",
        "\n",
        "    train_start= int(fold)\n",
        "    train_end = len(test_arr)\n",
        "\n",
        "    test_data_x=test_x[test_start:test_end]\n",
        "    train_data_x=test_x[train_start: train_end]\n",
        "\n",
        "    test_data_y=test_y[test_start:test_end]\n",
        "    train_data_y=test_y[train_start: train_end]\n",
        "\n",
        "    print(test_data_x) \n",
        "    print(train_data_x) \n",
        "\n",
        "    print(test_data_y) \n",
        "    print(train_data_y) \n",
        "    continue\n",
        "\n",
        "\n",
        "  #last itr\n",
        "  if i==(n-1):\n",
        "    print('last_itr')\n",
        "    test_start = test_end\n",
        "    test_end = len(test_arr)\n",
        "\n",
        "    train_start = 0\n",
        "    train_end = test_start\n",
        "\n",
        "    test_data_x=test_x[test_start:test_end]\n",
        "    train_data_x=test_x[train_start: train_end]\n",
        "\n",
        "    test_data_y=test_y[test_start:test_end]\n",
        "    train_data_y=test_y[train_start: train_end]\n",
        "\n",
        "    print(test_data_x) \n",
        "    print(train_data_x) \n",
        "\n",
        "    print(test_data_y) \n",
        "    print(train_data_y)  \n",
        "    continue\n",
        "\n",
        "\n",
        "  #normal itr\n",
        "  print (f\"normal_itr {i}\")\n",
        "  test_start = test_end\n",
        "  test_end = int(fold)*(i+1)\n",
        "\n",
        "  train_start= 0\n",
        "  train_end = test_start\n",
        "\n",
        "  train_start_2= test_end\n",
        "  train_end_2 = len(test_arr)\n",
        "\n",
        "  test_data_x=test_x[test_start:test_end]\n",
        "  train_data_x= np.concatenate((test_x[train_start: train_end],test_x[train_start_2: train_end_2]))\n",
        "\n",
        "  test_data_y=test_y[test_start:test_end]\n",
        "  train_data_y= np.concatenate((test_y[train_start: train_end],test_y[train_start_2: train_end_2]))\n",
        "\n",
        "  print(test_data_x) \n",
        "  print(train_data_x) \n",
        "\n",
        "  print(test_data_y) \n",
        "  print(train_data_y)  \n",
        "\n",
        "\n"
      ],
      "metadata": {
        "outputId": "468a02ef-8209-4391-c7f9-027b7450fea5",
        "colab": {
          "base_uri": "https://localhost:8080/"
        },
        "id": "09R7sinJra3h"
      },
      "execution_count": 17,
      "outputs": [
        {
          "output_type": "stream",
          "name": "stdout",
          "text": [
            "first_itr\n",
            "[[0.56394974 0.4486378  0.96050791 0.37737529]]\n",
            "[[0.60853602 0.99754772 0.71637545 0.65864016]\n",
            " [0.30326468 0.41438253 0.74578926 0.6053464 ]\n",
            " [0.41291428 0.38097108 0.27554814 0.33320661]\n",
            " [0.16100696 0.61029589 0.66300431 0.15373862]\n",
            " [0.76763114 0.70987423 0.27570109 0.38466996]\n",
            " [0.70388512 0.21540596 0.17672332 0.03015071]\n",
            " [0.68575693 0.02159981 0.9029085  0.04814467]\n",
            " [0.86012752 0.84736786 0.92304548 0.19965203]\n",
            " [0.78967181 0.4360335  0.87410469 0.56536933]]\n",
            "[0.6540536]\n",
            "[0.54415815 0.64101391 0.98459195 0.25863934 0.16821862 0.58904569\n",
            " 0.16040741 0.43357099 0.63075495]\n",
            "normal_itr 1\n",
            "[[0.60853602 0.99754772 0.71637545 0.65864016]]\n",
            "[[0.56394974 0.4486378  0.96050791 0.37737529]\n",
            " [0.30326468 0.41438253 0.74578926 0.6053464 ]\n",
            " [0.41291428 0.38097108 0.27554814 0.33320661]\n",
            " [0.16100696 0.61029589 0.66300431 0.15373862]\n",
            " [0.76763114 0.70987423 0.27570109 0.38466996]\n",
            " [0.70388512 0.21540596 0.17672332 0.03015071]\n",
            " [0.68575693 0.02159981 0.9029085  0.04814467]\n",
            " [0.86012752 0.84736786 0.92304548 0.19965203]\n",
            " [0.78967181 0.4360335  0.87410469 0.56536933]]\n",
            "[0.54415815]\n",
            "[0.6540536  0.64101391 0.98459195 0.25863934 0.16821862 0.58904569\n",
            " 0.16040741 0.43357099 0.63075495]\n",
            "normal_itr 2\n",
            "[[0.30326468 0.41438253 0.74578926 0.6053464 ]]\n",
            "[[0.56394974 0.4486378  0.96050791 0.37737529]\n",
            " [0.60853602 0.99754772 0.71637545 0.65864016]\n",
            " [0.41291428 0.38097108 0.27554814 0.33320661]\n",
            " [0.16100696 0.61029589 0.66300431 0.15373862]\n",
            " [0.76763114 0.70987423 0.27570109 0.38466996]\n",
            " [0.70388512 0.21540596 0.17672332 0.03015071]\n",
            " [0.68575693 0.02159981 0.9029085  0.04814467]\n",
            " [0.86012752 0.84736786 0.92304548 0.19965203]\n",
            " [0.78967181 0.4360335  0.87410469 0.56536933]]\n",
            "[0.64101391]\n",
            "[0.6540536  0.54415815 0.98459195 0.25863934 0.16821862 0.58904569\n",
            " 0.16040741 0.43357099 0.63075495]\n",
            "normal_itr 3\n",
            "[[0.41291428 0.38097108 0.27554814 0.33320661]]\n",
            "[[0.56394974 0.4486378  0.96050791 0.37737529]\n",
            " [0.60853602 0.99754772 0.71637545 0.65864016]\n",
            " [0.30326468 0.41438253 0.74578926 0.6053464 ]\n",
            " [0.16100696 0.61029589 0.66300431 0.15373862]\n",
            " [0.76763114 0.70987423 0.27570109 0.38466996]\n",
            " [0.70388512 0.21540596 0.17672332 0.03015071]\n",
            " [0.68575693 0.02159981 0.9029085  0.04814467]\n",
            " [0.86012752 0.84736786 0.92304548 0.19965203]\n",
            " [0.78967181 0.4360335  0.87410469 0.56536933]]\n",
            "[0.98459195]\n",
            "[0.6540536  0.54415815 0.64101391 0.25863934 0.16821862 0.58904569\n",
            " 0.16040741 0.43357099 0.63075495]\n",
            "normal_itr 4\n",
            "[[0.16100696 0.61029589 0.66300431 0.15373862]]\n",
            "[[0.56394974 0.4486378  0.96050791 0.37737529]\n",
            " [0.60853602 0.99754772 0.71637545 0.65864016]\n",
            " [0.30326468 0.41438253 0.74578926 0.6053464 ]\n",
            " [0.41291428 0.38097108 0.27554814 0.33320661]\n",
            " [0.76763114 0.70987423 0.27570109 0.38466996]\n",
            " [0.70388512 0.21540596 0.17672332 0.03015071]\n",
            " [0.68575693 0.02159981 0.9029085  0.04814467]\n",
            " [0.86012752 0.84736786 0.92304548 0.19965203]\n",
            " [0.78967181 0.4360335  0.87410469 0.56536933]]\n",
            "[0.25863934]\n",
            "[0.6540536  0.54415815 0.64101391 0.98459195 0.16821862 0.58904569\n",
            " 0.16040741 0.43357099 0.63075495]\n",
            "normal_itr 5\n",
            "[[0.76763114 0.70987423 0.27570109 0.38466996]]\n",
            "[[0.56394974 0.4486378  0.96050791 0.37737529]\n",
            " [0.60853602 0.99754772 0.71637545 0.65864016]\n",
            " [0.30326468 0.41438253 0.74578926 0.6053464 ]\n",
            " [0.41291428 0.38097108 0.27554814 0.33320661]\n",
            " [0.16100696 0.61029589 0.66300431 0.15373862]\n",
            " [0.70388512 0.21540596 0.17672332 0.03015071]\n",
            " [0.68575693 0.02159981 0.9029085  0.04814467]\n",
            " [0.86012752 0.84736786 0.92304548 0.19965203]\n",
            " [0.78967181 0.4360335  0.87410469 0.56536933]]\n",
            "[0.16821862]\n",
            "[0.6540536  0.54415815 0.64101391 0.98459195 0.25863934 0.58904569\n",
            " 0.16040741 0.43357099 0.63075495]\n",
            "normal_itr 6\n",
            "[[0.70388512 0.21540596 0.17672332 0.03015071]]\n",
            "[[0.56394974 0.4486378  0.96050791 0.37737529]\n",
            " [0.60853602 0.99754772 0.71637545 0.65864016]\n",
            " [0.30326468 0.41438253 0.74578926 0.6053464 ]\n",
            " [0.41291428 0.38097108 0.27554814 0.33320661]\n",
            " [0.16100696 0.61029589 0.66300431 0.15373862]\n",
            " [0.76763114 0.70987423 0.27570109 0.38466996]\n",
            " [0.68575693 0.02159981 0.9029085  0.04814467]\n",
            " [0.86012752 0.84736786 0.92304548 0.19965203]\n",
            " [0.78967181 0.4360335  0.87410469 0.56536933]]\n",
            "[0.58904569]\n",
            "[0.6540536  0.54415815 0.64101391 0.98459195 0.25863934 0.16821862\n",
            " 0.16040741 0.43357099 0.63075495]\n",
            "normal_itr 7\n",
            "[[0.68575693 0.02159981 0.9029085  0.04814467]]\n",
            "[[0.56394974 0.4486378  0.96050791 0.37737529]\n",
            " [0.60853602 0.99754772 0.71637545 0.65864016]\n",
            " [0.30326468 0.41438253 0.74578926 0.6053464 ]\n",
            " [0.41291428 0.38097108 0.27554814 0.33320661]\n",
            " [0.16100696 0.61029589 0.66300431 0.15373862]\n",
            " [0.76763114 0.70987423 0.27570109 0.38466996]\n",
            " [0.70388512 0.21540596 0.17672332 0.03015071]\n",
            " [0.86012752 0.84736786 0.92304548 0.19965203]\n",
            " [0.78967181 0.4360335  0.87410469 0.56536933]]\n",
            "[0.16040741]\n",
            "[0.6540536  0.54415815 0.64101391 0.98459195 0.25863934 0.16821862\n",
            " 0.58904569 0.43357099 0.63075495]\n",
            "normal_itr 8\n",
            "[[0.86012752 0.84736786 0.92304548 0.19965203]]\n",
            "[[0.56394974 0.4486378  0.96050791 0.37737529]\n",
            " [0.60853602 0.99754772 0.71637545 0.65864016]\n",
            " [0.30326468 0.41438253 0.74578926 0.6053464 ]\n",
            " [0.41291428 0.38097108 0.27554814 0.33320661]\n",
            " [0.16100696 0.61029589 0.66300431 0.15373862]\n",
            " [0.76763114 0.70987423 0.27570109 0.38466996]\n",
            " [0.70388512 0.21540596 0.17672332 0.03015071]\n",
            " [0.68575693 0.02159981 0.9029085  0.04814467]\n",
            " [0.78967181 0.4360335  0.87410469 0.56536933]]\n",
            "[0.43357099]\n",
            "[0.6540536  0.54415815 0.64101391 0.98459195 0.25863934 0.16821862\n",
            " 0.58904569 0.16040741 0.63075495]\n",
            "last_itr\n",
            "[[0.78967181 0.4360335  0.87410469 0.56536933]]\n",
            "[[0.56394974 0.4486378  0.96050791 0.37737529]\n",
            " [0.60853602 0.99754772 0.71637545 0.65864016]\n",
            " [0.30326468 0.41438253 0.74578926 0.6053464 ]\n",
            " [0.41291428 0.38097108 0.27554814 0.33320661]\n",
            " [0.16100696 0.61029589 0.66300431 0.15373862]\n",
            " [0.76763114 0.70987423 0.27570109 0.38466996]\n",
            " [0.70388512 0.21540596 0.17672332 0.03015071]\n",
            " [0.68575693 0.02159981 0.9029085  0.04814467]\n",
            " [0.86012752 0.84736786 0.92304548 0.19965203]]\n",
            "[0.63075495]\n",
            "[0.6540536  0.54415815 0.64101391 0.98459195 0.25863934 0.16821862\n",
            " 0.58904569 0.16040741 0.43357099]\n"
          ]
        }
      ]
    }
  ]
}