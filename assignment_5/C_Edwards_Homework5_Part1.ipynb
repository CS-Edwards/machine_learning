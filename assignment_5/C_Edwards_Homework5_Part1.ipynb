{
  "nbformat": 4,
  "nbformat_minor": 0,
  "metadata": {
    "colab": {
      "provenance": []
    },
    "kernelspec": {
      "name": "python3",
      "display_name": "Python 3"
    },
    "language_info": {
      "name": "python"
    }
  },
  "cells": [
    {
      "cell_type": "markdown",
      "source": [
        "### Candace Edwards\n",
        "### ICS 635: Homework 5\n",
        "### Part 1: [Notebook Link](https://colab.research.google.com/drive/1gz9EQGyhTAOqW9yYsHNSQSdA6yG7kMEE?usp=sharing)\n",
        "### Part 2: Q4: [Notebook Link](https://colab.research.google.com/drive/1AAUvfyM4YqTZeiikR8t99Se0Wn97afD6?usp=sharing)"
      ],
      "metadata": {
        "id": "KSeh5WDPAIaG"
      }
    },
    {
      "cell_type": "code",
      "source": [
        "from scipy.signal import convolve2d\n",
        "import numpy as np\n",
        "\n"
      ],
      "metadata": {
        "id": "DCnaLPcWntEM"
      },
      "execution_count": null,
      "outputs": []
    },
    {
      "cell_type": "markdown",
      "source": [
        "**Question 1. Final Exam Practice Questions** <br>\n",
        "\n",
        "\n",
        "\n",
        "1.   B: the others are ReLu variations or Softplus activations\n",
        "2.   B: False - Training on too many epochs is leads to over fitting, and is computationally inefficient.\n",
        "3.   C: An MLP can also learn non-linear features for complex images\n",
        "4.   B: 2500 ``see calculation in code below``\n",
        "5.   D : 996.0 x 996.0 x 50 `see calculation in code below`\n",
        "6.   D: All of the above, because each method has the potential to generalize the model / reduce overfitting.\n",
        "7.   B: Fast RNN does not use network pruning\n",
        "8. B. False - Multi-Network systems can use more than two NNs. \n",
        "9. D: All are benefits\n",
        "10. C: Momentum in gradient descent is for optimization not generalization\n",
        "11. B: Exploitation: Exploitatin is described as using known information to maximize reward [source](https://huggingface.co/learn/deep-rl-course/unit1/exp-exp-tradeoff?fw=pt). Higher learning rate promotes exploitation to learn quickly, instead of gathering more information slowly (exploration)\n",
        "12. A: Discount factor of 0 , no consideration to future rewards"
      ],
      "metadata": {
        "id": "wAsNLwx6CSvX"
      }
    },
    {
      "cell_type": "code",
      "source": [
        "#Q1.4\n",
        "weight_count =  (5*50) + (50*30) +(30*20)+(20*10)\n",
        "weight_count"
      ],
      "metadata": {
        "colab": {
          "base_uri": "https://localhost:8080/"
        },
        "id": "OjFVtRaudR_o",
        "outputId": "0cfbb152-0e4c-4c3e-f028-489f543ae239"
      },
      "execution_count": null,
      "outputs": [
        {
          "output_type": "execute_result",
          "data": {
            "text/plain": [
              "2550"
            ]
          },
          "metadata": {},
          "execution_count": 2
        }
      ]
    },
    {
      "cell_type": "code",
      "source": [
        "#Q1.5\n",
        "#Output height = (Input height + padding height top + padding height bottom - kernel height) / (stride height) + 1.\n",
        "#depth = kernel count\n",
        "output_dim = (1000 + 0 + 0 - 5) / (1) + 1\n",
        "depth = 50\n",
        "print(f'Dimensions: {output_dim} x {output_dim} x {depth}')"
      ],
      "metadata": {
        "colab": {
          "base_uri": "https://localhost:8080/"
        },
        "id": "UJcH2-UNdhe1",
        "outputId": "47e6e1cf-1045-4b13-e1da-8e10aa8c8acb"
      },
      "execution_count": null,
      "outputs": [
        {
          "output_type": "stream",
          "name": "stdout",
          "text": [
            "Dimensions: 996.0 x 996.0 x 50\n"
          ]
        }
      ]
    },
    {
      "cell_type": "markdown",
      "source": [
        "**Question 2: Neural Network Output**\n",
        "\n",
        "\n",
        "\n",
        "*   Answer: `p = 0.5`, `see code below`\n",
        "\n",
        "\n",
        "\n",
        "\n",
        "\n"
      ],
      "metadata": {
        "id": "oPkIf8ZCEWaK"
      }
    },
    {
      "cell_type": "code",
      "source": [
        "def relu_activation(x):\n",
        "  if x<0:\n",
        "    return 0\n",
        "  return x"
      ],
      "metadata": {
        "id": "2StWiSI4mpjc"
      },
      "execution_count": null,
      "outputs": []
    },
    {
      "cell_type": "code",
      "source": [
        "# #relu_activation test #status: works as expected\n",
        "# test_val = -1\n",
        "# expected = 0\n",
        "# print(f'Output:{relu_activation(test_val)} , Expected: {expected}')\n",
        "\n",
        "# test_val = 8\n",
        "# expected = 8\n",
        "\n",
        "# print(f'Output:{relu_activation(test_val)} , Expected: {expected}')"
      ],
      "metadata": {
        "id": "Eny9EoSTn_LX"
      },
      "execution_count": null,
      "outputs": []
    },
    {
      "cell_type": "code",
      "source": [
        "def calc_inputs(input_1, weight_1, input_2, weight_2):\n",
        "  return np.sum([(input_1 * weight_1),(input_2*weight_2)])"
      ],
      "metadata": {
        "id": "EoMmuUsanWvm"
      },
      "execution_count": null,
      "outputs": []
    },
    {
      "cell_type": "code",
      "source": [
        "#calc_inputs() tests #status: works as expected\n",
        "# x_1 = 5\n",
        "# w_1_x_1 = -1\n",
        "# w_2_x_1 = 0\n",
        "\n",
        "# x_2 = 4\n",
        "# w_3_x_2 = 1\n",
        "# w_4_x_2=  2\n",
        "\n",
        "# expected = -1\n",
        "# print(f'Output:{calc_inputs(x_1,w_1_x_1,x_2,w_3_x_2)} , Expected: {expected}')\n",
        "\n",
        "\n",
        "# expected = 8\n",
        "# print(f'Output:{calc_inputs(x_1,w_2_x_1,x_2,w_4_x_2)} , Expected: {expected}')"
      ],
      "metadata": {
        "id": "LHQnWI2KpA0l"
      },
      "execution_count": null,
      "outputs": []
    },
    {
      "cell_type": "code",
      "source": [
        "def sigmoid(x):\n",
        "  return 1/(1+np.exp(-x))"
      ],
      "metadata": {
        "id": "MDGewpL1sopG"
      },
      "execution_count": null,
      "outputs": []
    },
    {
      "cell_type": "code",
      "source": [
        "\n",
        "x_1 = 4\n",
        "w_1_x_1 = 1\n",
        "w_2_x_1 = -2\n",
        "\n",
        "x_2 = -2\n",
        "w_3_x_2 = 3\n",
        "w_4_x_2=  -1\n",
        "\n",
        "#HL: 1\n",
        "reLu_in_1 = calc_inputs(x_1,w_1_x_1,x_2,w_3_x_2)\n",
        "reLu_in_2 = calc_inputs(x_1,w_2_x_1,x_2,w_4_x_2)\n",
        "\n",
        "#pass to ReLu, results become new inputs for next layer\n",
        "x_1 = relu_activation(reLu_in_1)\n",
        "w_1_x_1 = -2\n",
        "w_2_x_1 = -2\n",
        "\n",
        "x_2 = relu_activation(reLu_in_2)\n",
        "w_3_x_2 = 1\n",
        "w_4_x_2=  2\n",
        "\n",
        "\n",
        "#HL2\n",
        "\n",
        "reLu_in_1 = calc_inputs(x_1,w_1_x_1,x_2,w_3_x_2)\n",
        "reLu_in_2 = calc_inputs(x_1,w_2_x_1,x_2,w_4_x_2)\n",
        "\n",
        "x_1 = relu_activation(reLu_in_1)\n",
        "pre_sig_w_1 = 5\n",
        "\n",
        "x_2 = relu_activation(reLu_in_2)\n",
        "pre_sig_w_2 = 4\n",
        "\n",
        "\n",
        "#SIG\n",
        "output= sigmoid(calc_inputs(x_1,pre_sig_w_1,x_2,pre_sig_w_2))\n",
        "output"
      ],
      "metadata": {
        "colab": {
          "base_uri": "https://localhost:8080/"
        },
        "id": "EQHBGx2ht-XN",
        "outputId": "d728d78e-df28-482b-c52c-93c82b6e82cf"
      },
      "execution_count": null,
      "outputs": [
        {
          "output_type": "execute_result",
          "data": {
            "text/plain": [
              "0.5"
            ]
          },
          "metadata": {},
          "execution_count": 9
        }
      ]
    },
    {
      "cell_type": "code",
      "source": [],
      "metadata": {
        "id": "FTMdQsLSyJhz"
      },
      "execution_count": null,
      "outputs": []
    },
    {
      "cell_type": "markdown",
      "source": [
        "**Question 3: Convolutional Neural Network Output**\n",
        "*   Answer: `p = 0.9784374743299705, `see code below`"
      ],
      "metadata": {
        "id": "CIy0pm0JKiSq"
      }
    },
    {
      "cell_type": "code",
      "source": [
        "#4x4 Input Image\n",
        "input_image = np.array([[210,0,0,0],\n",
        "                        [255,0,0,0],\n",
        "                        [251,0,0,0],\n",
        "                        [250,242,247,230]\n",
        "                        ])\n",
        "#3x3 Kernel\n",
        "kernal_1 =np.array([[2,-2,0],\n",
        "                    [1,0,1],\n",
        "                    [0,0,1]])\n",
        "\n",
        "#3X3 Kernal\n",
        "kernal_2 = np.array([[0,1,0],\n",
        "                    [-1,0,-1],\n",
        "                    [-1,2,0]])"
      ],
      "metadata": {
        "id": "TjwpMjZq-QLR"
      },
      "execution_count": null,
      "outputs": []
    },
    {
      "cell_type": "code",
      "source": [
        "#convolutions with kernal 1 and 2\n",
        "#source: https://docs.scipy.org/doc/scipy/reference/generated/scipy.signal.convolve2d.html\n",
        "feature_map_1 = convolve2d(input_image,kernal_1,mode='valid')\n",
        "feature_map_2 = convolve2d(input_image,kernal_2,mode='valid')"
      ],
      "metadata": {
        "id": "99N6aRN5BApF"
      },
      "execution_count": null,
      "outputs": []
    },
    {
      "cell_type": "code",
      "source": [
        "print(feature_map_1.shape)\n",
        "print(feature_map_1)"
      ],
      "metadata": {
        "colab": {
          "base_uri": "https://localhost:8080/"
        },
        "id": "2SYOYULbBxjS",
        "outputId": "40d8cb13-4a48-4945-b1e7-6c6ccbabf5ac"
      },
      "execution_count": null,
      "outputs": [
        {
          "output_type": "stream",
          "name": "stdout",
          "text": [
            "(2, 2)\n",
            "[[465   0]\n",
            " [516 -34]]\n"
          ]
        }
      ]
    },
    {
      "cell_type": "code",
      "source": [
        "print(feature_map_2.shape)\n",
        "print(feature_map_2)"
      ],
      "metadata": {
        "colab": {
          "base_uri": "https://localhost:8080/"
        },
        "id": "5uMIR9Z_NTCd",
        "outputId": "1ef68734-a21e-4568-d9eb-80246248cadd"
      },
      "execution_count": null,
      "outputs": [
        {
          "output_type": "stream",
          "name": "stdout",
          "text": [
            "(2, 2)\n",
            "[[-255    0]\n",
            " [  -9  247]]\n"
          ]
        }
      ]
    },
    {
      "cell_type": "code",
      "source": [
        "#2x2 max on a 2x2 feature map = max of feature map\n",
        "max_pool_fmap_1 = np.max(feature_map_1)\n",
        "max_pool_fmap_2 = np.max(feature_map_2)\n",
        "\n",
        "print(max_pool_fmap_1, max_pool_fmap_2)"
      ],
      "metadata": {
        "colab": {
          "base_uri": "https://localhost:8080/"
        },
        "id": "JM9rZ93pC10_",
        "outputId": "b5036df9-defb-4216-d0fd-2c78e7b519f0"
      },
      "execution_count": null,
      "outputs": [
        {
          "output_type": "stream",
          "name": "stdout",
          "text": [
            "516 247\n"
          ]
        }
      ]
    },
    {
      "cell_type": "code",
      "source": [
        "#max pool * weights\n",
        "weights_1 =1\n",
        "weights_2=-1\n",
        "reLu_in_1 = calc_inputs(max_pool_fmap_1,weights_1,max_pool_fmap_2,weights_1)\n",
        "reLu_in_2 = calc_inputs(max_pool_fmap_1,weights_2,max_pool_fmap_2,weights_1)\n",
        "\n",
        "#ReLU activation\n",
        "x_1 = relu_activation(reLu_in_1)\n",
        "pre_sig_w_1 = 0.005\n",
        "\n",
        "x_2 = relu_activation(reLu_in_2)\n",
        "pre_sig_w_2 = -0.8\n",
        "\n",
        "#SIG\n",
        "output= sigmoid(calc_inputs(x_1,pre_sig_w_1,x_2,pre_sig_w_2))\n",
        "output"
      ],
      "metadata": {
        "colab": {
          "base_uri": "https://localhost:8080/"
        },
        "id": "wjwpiEuvLgSr",
        "outputId": "1ff376bf-418c-4981-f26b-e39755c9c93b"
      },
      "execution_count": null,
      "outputs": [
        {
          "output_type": "execute_result",
          "data": {
            "text/plain": [
              "0.9784374743299705"
            ]
          },
          "metadata": {},
          "execution_count": 33
        }
      ]
    }
  ]
}