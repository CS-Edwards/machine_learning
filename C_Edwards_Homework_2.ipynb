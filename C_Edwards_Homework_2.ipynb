{
  "nbformat": 4,
  "nbformat_minor": 0,
  "metadata": {
    "colab": {
      "provenance": [],
      "include_colab_link": true
    },
    "kernelspec": {
      "name": "python3",
      "display_name": "Python 3"
    },
    "language_info": {
      "name": "python"
    }
  },
  "cells": [
    {
      "cell_type": "markdown",
      "metadata": {
        "id": "view-in-github",
        "colab_type": "text"
      },
      "source": [
        "<a href=\"https://colab.research.google.com/github/CS-Edwards/machine_learning/blob/main/C_Edwards_Homework_2.ipynb\" target=\"_parent\"><img src=\"https://colab.research.google.com/assets/colab-badge.svg\" alt=\"Open In Colab\"/></a>"
      ]
    },
    {
      "cell_type": "markdown",
      "source": [
        "### Candace Edwards\n",
        "### ICS 635: Homework 2\n",
        "### [Notebook Link](https://colab.research.google.com/drive/17jB_AujrJjLQJc08NjXXA3XoPwX51u5N?usp=sharing)"
      ],
      "metadata": {
        "id": "wEaKWiQPrAM9"
      }
    },
    {
      "cell_type": "code",
      "execution_count": 35,
      "metadata": {
        "id": "7r7sc2OpZSmf"
      },
      "outputs": [],
      "source": [
        "###\n",
        "### Import dependencies. Do not change. For reference only.\n",
        "###\n",
        "\n",
        "import matplotlib.pyplot as plt\n",
        "\n",
        "from sklearn.model_selection import train_test_split\n",
        "from sklearn.datasets import fetch_california_housing\n",
        "from sklearn.metrics import mean_squared_error"
      ]
    },
    {
      "cell_type": "code",
      "source": [
        "from sklearn.model_selection import RandomizedSearchCV\n",
        "from sklearn.model_selection import GridSearchCV\n",
        "from sklearn.linear_model import ElasticNet\n",
        "from sklearn.tree import DecisionTreeRegressor\n",
        "from sklearn.ensemble import RandomForestRegressor\n",
        "import numpy as np\n",
        "import pandas as pd"
      ],
      "metadata": {
        "id": "U6A5TFBWl7lQ"
      },
      "execution_count": 36,
      "outputs": []
    },
    {
      "cell_type": "code",
      "source": [
        "###\n",
        "### Load the California Housing dataset.\n",
        "###\n",
        "\n",
        "data = fetch_california_housing(return_X_y=True)\n",
        "\n",
        "X = data[0]\n",
        "y = data[1]\n",
        "\n",
        "# Only use 50% of the data.\n",
        "X = X[:int(X.shape[0] / 2)]\n",
        "y = y[:int(y.shape[0] / 2)]"
      ],
      "metadata": {
        "id": "f9AphNDfZ4Rk"
      },
      "execution_count": 37,
      "outputs": []
    },
    {
      "cell_type": "code",
      "source": [
        "###\n",
        "### Split data into train and test sets. Do not change. For reference only.\n",
        "###\n",
        "\n",
        "X_train, X_test, y_train, y_test = train_test_split(\n",
        "    X, y, test_size=0.25, random_state=42\n",
        ")"
      ],
      "metadata": {
        "id": "O5q_QzivZ8vX"
      },
      "execution_count": 38,
      "outputs": []
    },
    {
      "cell_type": "code",
      "source": [
        "print(type(X_train))\n",
        "print(X_train.shape)"
      ],
      "metadata": {
        "colab": {
          "base_uri": "https://localhost:8080/",
          "height": 0
        },
        "id": "lU5SToZGAUMQ",
        "outputId": "bd265be7-3bbd-405e-cf51-a1cce0b731be"
      },
      "execution_count": 39,
      "outputs": [
        {
          "output_type": "stream",
          "name": "stdout",
          "text": [
            "<class 'numpy.ndarray'>\n",
            "(7740, 8)\n"
          ]
        }
      ]
    },
    {
      "cell_type": "code",
      "source": [
        "###\n",
        "### Random Forest Regression Model\n",
        "### \n",
        "\n",
        "\n",
        "def get_regression_model():\n",
        "  \"\"\"\n",
        "  Define and return the machine learning model. \n",
        "  \"\"\"\n",
        "  from sklearn.ensemble import RandomForestRegressor\n",
        "  model = RandomForestRegressor(criterion='friedman_mse',\n",
        "                                max_features='log2',\n",
        "                                n_estimators= 1000)\n",
        "  return model"
      ],
      "metadata": {
        "id": "DQS5IX1BFJ_J"
      },
      "execution_count": 51,
      "outputs": []
    },
    {
      "cell_type": "code",
      "source": [
        "###\n",
        "### Train and evaluate the model.\n",
        "###\n",
        "\n",
        "model = get_regression_model()\n",
        "\n",
        "fit = model.fit(X_train, y_train)\n",
        "\n",
        "y_pred = model.predict(X_test)\n",
        "mse = mean_squared_error(y_test, y_pred)\n",
        "print(\"Mean Squared Error: \", mse)\n"
      ],
      "metadata": {
        "colab": {
          "base_uri": "https://localhost:8080/",
          "height": 0
        },
        "id": "3zHWFhYda330",
        "outputId": "400824c5-1ad2-40c0-cafd-de875f77c5e6"
      },
      "execution_count": 52,
      "outputs": [
        {
          "output_type": "stream",
          "name": "stdout",
          "text": [
            "Mean Squared Error:  0.19944631043400374\n"
          ]
        }
      ]
    },
    {
      "cell_type": "markdown",
      "source": [
        "\n",
        "\n",
        "---\n",
        "\n",
        "\n",
        "\n",
        "---\n",
        "\n"
      ],
      "metadata": {
        "id": "WogVDZL58vSZ"
      }
    },
    {
      "cell_type": "markdown",
      "source": [
        "**ElasticNet:** RandomSearchCV and GridSearchCV"
      ],
      "metadata": {
        "id": "ztTmYjAK8DNR"
      }
    },
    {
      "cell_type": "code",
      "source": [
        "## Random Seach CV and Grid Search CV for ElasticNet()\n",
        "\n",
        "model = ElasticNet()\n",
        "\n",
        "h_param_dict = {'alpha': [0.001, 0.01, 0.1, 1.0, 10, 100],\n",
        "              'l1_ratio': [0.0, 0.25, 0.5, 0.75, 1.0],\n",
        "              'max_iter':[1000,2000,3000,4000],\n",
        "              'fit_intercept': [True, False],\n",
        "               }\n",
        "\n",
        "random_search = RandomizedSearchCV(model, param_distributions=h_param_dict,\n",
        "                                   n_iter=20, scoring='neg_mean_squared_error',\n",
        "                                   n_jobs=-1, cv=5, random_state=42)\n",
        "\n",
        "random_search.fit(X_train, y_train)\n",
        "\n",
        "print(\"Random Optimal Params:\", random_search.best_params_)\n",
        "print(\"MSE:\", -random_search.best_score_)"
      ],
      "metadata": {
        "colab": {
          "base_uri": "https://localhost:8080/",
          "height": 0
        },
        "outputId": "25c86137-9bdf-4bf0-fc05-1240024cb052",
        "id": "bRzFIqYkhEjY"
      },
      "execution_count": 48,
      "outputs": [
        {
          "output_type": "stream",
          "name": "stdout",
          "text": [
            "Random Optimal Params: {'max_iter': 2000, 'l1_ratio': 0.25, 'fit_intercept': True, 'alpha': 1.0}\n",
            "MSE: 0.6844326571352379\n"
          ]
        }
      ]
    },
    {
      "cell_type": "code",
      "source": [
        "# Commented Out: Long Runtime ~8mins\n",
        "# #array of 10 values between 0 and 1\n",
        "# l1_ratio = np.linspace(0,1,10)\n",
        "\n",
        "# #array of 20 values between 0.1 and 0.5\n",
        "# alpha_range =  np.linspace(0.1,0.5,20)\n",
        "\n",
        "# h_param_grid_dict = {'alpha': alpha_range,\n",
        "#               'l1_ratio': l1_ratio,\n",
        "#               'max_iter':[1000,1500,2000],\n",
        "#               'fit_intercept': [True, False]}\n",
        "\n",
        "# # GridSearch: cv = 10fold cross validation, verbose messaging, scoring MSE\n",
        "# grid_search = GridSearchCV(model, param_grid=h_param_grid_dict,\n",
        "#                            scoring='neg_mean_squared_error',\n",
        "#                            cv=10,\n",
        "#                            verbose = 3,\n",
        "#                            n_jobs=-1)\n",
        "\n",
        "# grid_search.fit(X_train, y_train)\n",
        "\n",
        "# print(\"Grid Optimal Params:\", grid_search.best_params_)\n",
        "# print(\"MSE:\", -grid_search.best_score_)"
      ],
      "metadata": {
        "colab": {
          "base_uri": "https://localhost:8080/",
          "height": 0
        },
        "outputId": "46c6d557-45b7-4298-b07d-409c71c15342",
        "id": "CSss3aAPrldJ"
      },
      "execution_count": 50,
      "outputs": [
        {
          "output_type": "stream",
          "name": "stdout",
          "text": [
            "Fitting 10 folds for each of 1200 candidates, totalling 12000 fits\n",
            "Grid Optimal Params: {'alpha': 0.24736842105263157, 'fit_intercept': True, 'l1_ratio': 1.0, 'max_iter': 1000}\n",
            "MSE: 0.6362219937950655\n"
          ]
        }
      ]
    },
    {
      "cell_type": "markdown",
      "source": [
        "**RandomForestRegressor:** RandomSearchCV and GridSearchCV"
      ],
      "metadata": {
        "id": "ik_96rJj8a8W"
      }
    },
    {
      "cell_type": "code",
      "source": [
        "##Commented Out : Long Runtime ~18min\n",
        "## Random Seach CV and Grid Search CV for RandomForestRegressor()\n",
        "# model = RandomForestRegressor()\n",
        "\n",
        "# h_param_dict = {'n_estimators': [1,10,100,1000], #[1000]\n",
        "#               'criterion': ['squared_error', 'absolute_error', 'friedman_mse', 'poisson'],\n",
        "#               'max_features':['sqrt', 'log2','None'],\n",
        "#               'ccp_alpha': [0.0, 0.0001,0.001,0.01,1], #[0,0]\n",
        "#                }\n",
        "\n",
        "# random_search = RandomizedSearchCV(model, param_distributions=h_param_dict,\n",
        "#                                    n_iter=20, scoring='neg_mean_squared_error',\n",
        "#                                    n_jobs=-1, cv=5, random_state=42)\n",
        "\n",
        "# random_search.fit(X_train, y_train)\n",
        "\n",
        "# print(\"Random Optimal Params:\", random_search.best_params_)\n",
        "# print(\"MSE:\", -random_search.best_score_)"
      ],
      "metadata": {
        "colab": {
          "base_uri": "https://localhost:8080/",
          "height": 0
        },
        "outputId": "b13bd7fd-6e4d-4694-8943-e90711742fea",
        "id": "vpPdwnARvowK"
      },
      "execution_count": 44,
      "outputs": [
        {
          "output_type": "stream",
          "name": "stderr",
          "text": [
            "/usr/local/lib/python3.8/dist-packages/sklearn/model_selection/_search.py:292: UserWarning: The total space of parameters 4 is smaller than n_iter=20. Running 4 iterations. For exhaustive searches, use GridSearchCV.\n",
            "  warnings.warn(\n"
          ]
        },
        {
          "output_type": "stream",
          "name": "stdout",
          "text": [
            "Random Optimal Params: {'criterion': 'friedman_mse'}\n",
            "MSE: 0.2175666734317699\n"
          ]
        }
      ]
    },
    {
      "cell_type": "code",
      "source": [
        "# Commented Out: Long Runtime ~24min\n",
        "# model = RandomForestRegressor()\n",
        "# h_param_grid_dict = {'n_estimators': [1,10,100,1000],\n",
        "#               'criterion': ['squared_error', 'friedman_mse'],\n",
        "#               'max_features':['sqrt', 'log2','auto']             \n",
        "#                }\n",
        "\n",
        "# # GridSearch: cv = 10fold cross validation, verbose messaging, scoring MSE\n",
        "# grid_search = GridSearchCV(model, param_grid=h_param_grid_dict,\n",
        "#                            scoring='neg_mean_squared_error',\n",
        "#                            cv=10,\n",
        "#                            verbose = 3,\n",
        "#                            n_jobs=-1)\n",
        "\n",
        "# grid_search.fit(X_train, y_train)\n",
        "\n",
        "# print(\"Grid Optimal Params:\", grid_search.best_params_)\n",
        "# print(\"MSE:\", -grid_search.best_score_)"
      ],
      "metadata": {
        "colab": {
          "base_uri": "https://localhost:8080/",
          "height": 0
        },
        "id": "OVGZSF9nl0y9",
        "outputId": "f2c99fa6-2b70-4d87-bb74-73367c4144d4"
      },
      "execution_count": 47,
      "outputs": [
        {
          "output_type": "stream",
          "name": "stdout",
          "text": [
            "Fitting 10 folds for each of 24 candidates, totalling 240 fits\n",
            "Grid Optimal Params: {'criterion': 'friedman_mse', 'max_features': 'log2', 'n_estimators': 1000}\n",
            "MSE: 0.19786896386648242\n"
          ]
        }
      ]
    },
    {
      "cell_type": "code",
      "source": [
        "#Best Performance\n",
        "#Grid Optimal Params: {'criterion': 'friedman_mse', 'max_features': 'log2', 'n_estimators': 1000}\n",
        "#MSE: 0.197729487957309"
      ],
      "metadata": {
        "id": "WVZdVeQErOVV"
      },
      "execution_count": null,
      "outputs": []
    },
    {
      "cell_type": "code",
      "source": [
        "##Correlation Between Features of DataSet\n",
        "import seaborn as sns\n",
        "import matplotlib.pyplot as plt\n",
        "\n",
        "x_train_df = pd.DataFrame(X_train)\n",
        "y_train_series = pd.Series(y_train)\n",
        "\n",
        "training = pd.concat([x_train_df, y_train_series], axis=1)\n",
        "matrix = training.corr()\n",
        "#matrix\n",
        "\n",
        "sns.heatmap(matrix, annot=True, cmap='coolwarm')\n",
        "plt.show()\n",
        "\n"
      ],
      "metadata": {
        "colab": {
          "base_uri": "https://localhost:8080/",
          "height": 269
        },
        "id": "cyGzLjf-BKC9",
        "outputId": "4f1aae46-2c79-4173-fc3a-178347d97c3c"
      },
      "execution_count": 60,
      "outputs": [
        {
          "output_type": "display_data",
          "data": {
            "text/plain": [
              "<Figure size 432x288 with 2 Axes>"
            ],
            "image/png": "[encoded data removed]"
          },
          "metadata": {
            "needs_background": "light"
          }
        }
      ]
    },
    {
      "cell_type": "markdown",
      "source": [
        "\n",
        "\n",
        "---\n",
        "\n",
        "\n",
        "\n",
        "---\n",
        "\n"
      ],
      "metadata": {
        "id": "kkgqvMIW80-6"
      }
    },
    {
      "cell_type": "markdown",
      "source": [
        "# REPORT: Hyperparameter Tuning Summary\n",
        "\n",
        "**Best Performing Solution:** Random Forest Regression <br>\n",
        "**Best MSE:** `0.197729487957309`\n",
        "\n",
        "**Performance Conjecture:** <br>\n",
        "The heatmap above illustrates the low correlation of the dataset features. Non-linear models fit low correlated features better than linear models. Non-linear models can capture more complex relationships between features in the training data which improves the model. Random Forrest regression probably performed better than the other non-linear models because the model makes mutiple decision trees and takes the average; which helps to limit overfitting. In my model `n_estimator = 1000` , to increase the accuracy of the model at the cost of computation time. \n",
        "\n",
        "**Models and Methods:** <br>\n",
        "In the first iteration of this experiment I used linear regression models:Linear Regression, Ridge Regression, Lasso Regression and Elastic-Net Regression to find the best performing classifier and hyperparameters for the data. Linear Regression was used first to establish an MSE baseline. Linear Regression resulted in an initial MSE of \n",
        "~0.55. With the baseline satisfying the assignment condition of returning an MSE < 0.6, I then experimented with tuning the other regression methods to perform *atleast* as well as the base.\n",
        "\n",
        "After modeling the data with linear models, I moved on to non-linear models: Descision Tree Regression, Random Forest Regression and Gradient Boost; with the goal of improving model fit performance and decreasing MSE.\n",
        "\n",
        "**Hyperparameter Tuning Approach: Linear Models** <br>\n",
        "<li> Manual Alpha Tuning for Ridge and Lasso Regression: <br> First, each classifier model (Linear, Ridge and Lasso) was fit to the data using their default settings and compared the resulting MSE to the linear regression base MSE. Then, I selected 10 values of alpha at observe the impact of the classifier sensativity on the fit and compared the resulting MSE to both the Linear Regression base and the default values of the classifier. After experimenting with a few abritraty values for alpha it became apprent that the best performing values were somewhere between [0,1). In the best performing Ridge Regression with alpha set to 1.0 x 10<sup>-14</sup> the MSE was equivalent to the base Linear Regression MSE until the 10<sup>-16</sup> decimal place, where Linear Regression performed slightly better. In the best performing Lasso Regression with alpha set to 5.0 x 10<sup>-16</sup> the MSE was equivalent to the base Linear Regression MSE until the 10<sup>-15</sup> decimal place, where Linear Regression performed slightly better.The results are recorded in tables below.\n",
        "<br>\n",
        "<br>\n",
        "<li> RandomSearchCV and GridSearchCV for ElasticNet Regression:<br>\n",
        "To experiment with the ElasticNet Regression classifier, I first used RandomSearchCV with a wide range of values for the hyperparameters to get an idea of which settings produced the optimal result. The alpha array values range is [0.01,100] to evaluate which magnitude performed the best. The l1 ratio range is [0.0,1], again so evaluate which ratio performed the best in the RandomSearch. Once RandomSearch provided the optimal hyperparameters for the parameter dictionary, I used the RandomSearch optimal parameters to inform the paramaters I chose for GridSearchCV. Given the RandomSearch CV optimal values:\n",
        "\n",
        "```\n",
        "Random Optimal Params: {'max_iter': 2000, 'l1_ratio': 0.25, 'fit_intercept': True, 'alpha': 1.0}\n",
        "MSE: 0.6844326571352379\n",
        "```\n",
        "I set the hyperparemeters of grid search narrowly around the hyperparemeters of RandomSearch:\n",
        "\n",
        "```\n",
        "#array of 10 values between 0 and 1\n",
        "l1_ratio = np.linspace(0,1,10)\n",
        "\n",
        "#array of 20 values between 0.1 and 0.5\n",
        "alpha_range =  np.linspace(0.1,0.5,20)\n",
        "\n",
        "h_param_grid_dict = {'alpha': alpha_range,\n",
        "              'l1_ratio': l1_ratio,\n",
        "              'max_iter':[1000,1500,2000],\n",
        "              'fit_intercept': [True, False]}\n",
        "```\n",
        "\n",
        "GridSearch CV resulted in the following for ElasticNet():\n",
        "\n",
        "```\n",
        "Best hyperparameters: {'alpha': 0.24736842105263157, 'fit_intercept': True, 'l1_ratio': 1.0, 'max_iter': 1000}\n",
        "Mean test score (MSE): 0.6367222633986992\n",
        "```\n",
        "\n",
        "**Using linear regression models, Linear Regression(), performed the best and produced the lowest MSE.** \n",
        "\n",
        "<br>\n",
        "<br>\n",
        "\n",
        "**Hyperparameter Tuning Approach: Non-Linear Models** <br>\n",
        "For the non-linear models, I first fit each model using their default settings. All of the models performed significantly better than the Linear Regression classifier.\n",
        "\n",
        "| Model    | MSE| change vs LinearRegression()|      \n",
        "| :---        |    :----:   |          ---: |\n",
        "|Linear Regression|0.555157420181748|0.000%|\n",
        "|Decision Tree Regression|0.40596759394957366|-26.873%|\n",
        "|Random Forest Regression|0.2119276267504992|-61.826%|\n",
        "|Gradient Boost Regression|0.25105791245810666|-54.777%|\n",
        "\n",
        "The best performing classifiers for this data is the Random Forest Regression.\n",
        "<br>\n",
        "\n",
        "Similar to my approach above, I used RandomSearchCV to establish hyperparameter bounds and then used GridSearchCV to find the optimal hyperparameters for Random Forest Regression. Given the RandomSearch CV optimal values:\n",
        "\n",
        "```\n",
        "Random Optimal Params: {'n_estimators':1000, 'criterion': 'friedman_mse', }\n",
        "```\n",
        "\n",
        "I paired down the hyperparamater options for GridSearchCV:\n",
        "\n",
        "```\n",
        "h_param_grid_dict = {'n_estimators': [1,10,100,1000],\n",
        "               'criterion': ['squared_error', 'friedman_mse'],\n",
        "               'max_features':['sqrt', 'log2','auto']             \n",
        "                }\n",
        "```\n",
        "\n",
        "GridSearch CV resulted in the following for RandomForestRegressor():\n",
        "\n",
        "```\n",
        "Grid Optimal Params: {'criterion': 'friedman_mse', 'max_features': 'log2', 'n_estimators': 1000}\n",
        "MSE: 0.197729487957309\n",
        "```\n",
        "\n",
        "I used these parameters to tune the model in the function `get_regression_model()`.\n",
        "\n",
        "**Using non-linear regression models, RandomForestRegressor(), performed the best and produced the lowest MSE, overall.**\n"
      ],
      "metadata": {
        "id": "p5HvHy4WvQ7t"
      }
    },
    {
      "cell_type": "markdown",
      "source": [
        "## Models\n",
        "\n",
        "\n",
        "*   Linear Regression Models\n",
        "*   Non-Linear Regression Models\n",
        "\n"
      ],
      "metadata": {
        "id": "WuF380zrvice"
      }
    },
    {
      "cell_type": "markdown",
      "source": [
        "### Linear Regression Models: \n",
        "<li> Linear Regression\n",
        "<li> Ridge Regression\n",
        "<li> Lasso Regression"
      ],
      "metadata": {
        "id": "ey5UyMPHxA4B"
      }
    },
    {
      "cell_type": "code",
      "source": [
        "def percent_difference(base, case_in):\n",
        "  '''\n",
        "  Calculate the percent change in MSE Results\n",
        "  '''\n",
        "  return ((case_in-base)/base) * 100"
      ],
      "metadata": {
        "id": "OopdDTD97YG4"
      },
      "execution_count": 8,
      "outputs": []
    },
    {
      "cell_type": "markdown",
      "source": [
        "#### **Base Case:  Linear Regression**  <br>\n",
        "Linear Regression model `from sklearn.linear_model import LinearRegression` with no alterations or adjustments to the default hyperparameter.\n",
        "\n",
        "```\n",
        "model = LinearRegression()\n",
        "```\n",
        "\n",
        "**Score:**\n",
        "\n",
        "```\n",
        "Mean Squared Error:  0.555157420181748\n",
        "```"
      ],
      "metadata": {
        "id": "atEmFwkc397X"
      }
    },
    {
      "cell_type": "markdown",
      "source": [
        "#### **Case 1: Linear Regression: Fit Intercept**  <br>\n",
        "`fit_intercept` hyperparameter set to `False`. Setting the fit intercept to false dampened the performance of the model, increasing the MSE/ decreasing performance by ~7.6%. \n",
        "\n",
        "```\n",
        " model = LinearRegression(fit_intercept= False)\n",
        "```\n",
        "\n",
        "**Score:**\n",
        "\n",
        "```\n",
        "Mean Squared Error:  0.5974245036216438\n",
        "```\n",
        "\n",
        "Resource:<br>\n",
        "Meaningful Regression Parameters Through Centering: [link](https://cscu.cornell.edu/wp-content/uploads/66_centering.pdf)"
      ],
      "metadata": {
        "id": "iwrTQSZM31Wh"
      }
    },
    {
      "cell_type": "code",
      "source": [
        "base_mse = 0.555157420181748\n",
        "case_1 =  0.5974245036216438\n",
        "\n",
        "print(f'Percent change vs base: {percent_difference(base_mse,case_1)}%')"
      ],
      "metadata": {
        "colab": {
          "base_uri": "https://localhost:8080/",
          "height": 0
        },
        "id": "DlManfnP397Y",
        "outputId": "ec0d5676-acb3-4676-e861-5cc0dcac5af4"
      },
      "execution_count": 12,
      "outputs": [
        {
          "output_type": "stream",
          "name": "stdout",
          "text": [
            "Percent change vs base: 7.613531208149643%\n"
          ]
        }
      ]
    },
    {
      "cell_type": "markdown",
      "source": [
        "#### **Case 2: Ridge Regression**  <br>\n",
        "Ridge Regression model `from sklearn.linear_model import Ridge` with no alterations or adjustments to the default hyperparameter.Linear Regression perfomed nominally better than Ridge Regression with no hyperameter tuning. Ridge Regression increased MSE by < 0.01%.\n",
        "\n",
        "```\n",
        "model = Ridge()\n",
        "```\n",
        "\n",
        "**Score:**\n",
        "\n",
        "```\n",
        "Mean Squared Error:  0.5552074222040309\n",
        "\n",
        "```"
      ],
      "metadata": {
        "id": "1d9wJ2mo96rt"
      }
    },
    {
      "cell_type": "markdown",
      "source": [
        " **Ridge Alpha Tuning Outcome Summary**\n",
        "\n",
        "| Alpha     | MSE| change vs Ridge()| change vs LinearRegression()     |\n",
        "| :---        |    :----:   |          :---: |---: |\n",
        "|2.0|0.555257389558855|0.009%|0.018%|\n",
        "|10.0|0.5556556682896933|0.081%|0.090%|\n",
        "|5.0|0.5554070651827038|0.036%|0.045%|\n",
        "|3.0|0.5553073203708422|0.018%|0.027%|\n",
        "|1.5|0.5552324103336082|0.005%|0.014%|\n",
        "|0.01|0.5551579203672564|-0.009%|0.000%|\n",
        "|0.0001|0.5551574251836195|-0.009%|0.000%|\n",
        "|1e-06|0.5551574202317668|-0.009%|0.000%|\n",
        "|3.05175e-06|0.5551574203343929|-0.009%|0.000%|\n",
        "|1e-15|0.5551574201817483|-0.009%|0.000%|"
      ],
      "metadata": {
        "id": "4i23pZMSPmAj"
      }
    },
    {
      "cell_type": "markdown",
      "source": [
        "##### Code Calculations:"
      ],
      "metadata": {
        "id": "hxANxqvkHl7h"
      }
    },
    {
      "cell_type": "code",
      "source": [
        "case_2 =  0.5552074222040309\n",
        "print(f'Percent change vs base: {percent_difference(base_mse,case_2)}%')"
      ],
      "metadata": {
        "colab": {
          "base_uri": "https://localhost:8080/",
          "height": 0
        },
        "id": "NXQVZg5T397Y",
        "outputId": "bbb2ba1c-0cfb-46c6-a114-fac298b793ab"
      },
      "execution_count": 27,
      "outputs": [
        {
          "output_type": "stream",
          "name": "stdout",
          "text": [
            "Percent change vs base: 0.009006818690547536%\n"
          ]
        }
      ]
    },
    {
      "cell_type": "code",
      "source": [
        "#code for results table, output in markdown\n",
        "alpha_ridge = [2.0,10.0,5.0,3.0,1.5,0.01,0.0001,0.000001,0.00000305175,0.000000000000001]\n",
        "\n",
        "from sklearn.linear_model import Ridge\n",
        "\n",
        "print('| Alpha     | MSE| change vs Ridge()| change vs LinearRegression()     |')\n",
        "print('| :---        |    :----:   |          :---: |---: |')\n",
        "\n",
        "for alpha in alpha_ridge:\n",
        "   model = Ridge(alpha=alpha)\n",
        "   fit = model.fit(X_train, y_train)\n",
        "\n",
        "   y_pred = model.predict(X_test)\n",
        "   mse = mean_squared_error(y_test, y_pred)\n",
        "   delta_ridge = percent_difference(case_2,mse)\n",
        "   delta_lr = percent_difference(base_mse,mse)\n",
        "   print(f'|{alpha}|{mse}|{delta_ridge:.3f}%|{delta_lr:.3f}%|')\n"
      ],
      "metadata": {
        "colab": {
          "base_uri": "https://localhost:8080/",
          "height": 0
        },
        "outputId": "d3d787ea-ef75-46ca-ff45-d4aea0ecfe99",
        "id": "pNSyY2rPuGbh"
      },
      "execution_count": 28,
      "outputs": [
        {
          "output_type": "stream",
          "name": "stdout",
          "text": [
            "| Alpha     | MSE| change vs Ridge()| change vs LinearRegression()     |\n",
            "| :---        |    :----:   |          :---: |---: |\n",
            "|2.0|0.555257389558855|0.009%|0.018%|\n",
            "|10.0|0.5556556682896933|0.081%|0.090%|\n",
            "|5.0|0.5554070651827038|0.036%|0.045%|\n",
            "|3.0|0.5553073203708422|0.018%|0.027%|\n",
            "|1.5|0.5552324103336082|0.005%|0.014%|\n",
            "|0.01|0.5551579203672564|-0.009%|0.000%|\n",
            "|0.0001|0.5551574251836195|-0.009%|0.000%|\n",
            "|1e-06|0.5551574202317668|-0.009%|0.000%|\n",
            "|3.05175e-06|0.5551574203343929|-0.009%|0.000%|\n",
            "|1e-15|0.5551574201817483|-0.009%|0.000%|\n"
          ]
        }
      ]
    },
    {
      "cell_type": "code",
      "source": [],
      "metadata": {
        "id": "7Inu8pVwlU24"
      },
      "execution_count": 21,
      "outputs": []
    },
    {
      "cell_type": "markdown",
      "source": [
        "#### Case 3: Lasso Regression\n",
        "Lasso Regression model `from sklearn.linear_model import Lasso` with no alterations or adjustments to the default hyperparameter. Linear Regression perfomed substantially better than Lasso Regression with no hyperameter tuning. Lasso Regression increased MSE by ~74%\n",
        "\n",
        "```\n",
        "model = Lasso()\n",
        "```\n",
        "\n",
        "**Score:**\n",
        "\n",
        "```\n",
        "Mean Squared Error:  0.9697723742711276\n",
        "\n",
        "```"
      ],
      "metadata": {
        "id": "exK4ZPgklVpn"
      }
    },
    {
      "cell_type": "markdown",
      "source": [
        " **Lasso Alpha Tuning Outcome Summary**\n",
        "\n",
        "| Alpha     | MSE| change vs Lasso()| change vs LinearRegression()     |\n",
        "| :---        |    :----:   |          :---: |---: |\n",
        "|10|1.3759644077914204|41.885%|147.851%|\n",
        "|2|1.3762995217793714|41.920%|147.912%|\n",
        "|1.5|1.361604547179291|40.405%|145.265%|\n",
        "|5e-06|0.5551615369226126|-42.753%|0.001%|\n",
        "|5e-09|0.5551574242983756|-42.754%|0.000%|\n",
        "|5e-10|0.5551574205933917|-42.754%|0.000%|\n",
        "|5e-11|0.5551574202229115|-42.754%|0.000%|\n",
        "|5e-12|0.5551574201858652|-42.754%|0.000%|\n",
        "|5e-13|0.5551574201821607|-42.754%|0.000%|\n",
        "|5e-15|0.5551574201817531|-42.754%|0.000%|\n",
        "|5e-14|0.5551574201817902|-42.754%|0.000%|"
      ],
      "metadata": {
        "id": "48dR2CpOnqAP"
      }
    },
    {
      "cell_type": "markdown",
      "source": [
        "##### Code Calculations"
      ],
      "metadata": {
        "id": "nVTl1e8VmpzL"
      }
    },
    {
      "cell_type": "code",
      "source": [
        "base_mse = 0.555157420181748\n",
        "case_3 =   0.9697723742711276\n",
        "\n",
        "print(f'Percent change vs base: {percent_difference(base_mse,case_3):.3f}%')"
      ],
      "metadata": {
        "colab": {
          "base_uri": "https://localhost:8080/",
          "height": 0
        },
        "outputId": "b902836a-7f3c-4f21-e535-e75dabf0e4ba",
        "id": "4PvA9iKamspS"
      },
      "execution_count": 24,
      "outputs": [
        {
          "output_type": "stream",
          "name": "stdout",
          "text": [
            "Percent change vs base: 74.684%\n"
          ]
        }
      ]
    },
    {
      "cell_type": "code",
      "source": [
        "#code for results table, output in markdown\n",
        "alpha_lasso = [10, 2, 1.5, 0.000005,0.000000005, 0.0000000005,0.00000000005, 0.000000000005, 0.0000000000005,0.000000000000005, 0.00000000000005]\n",
        "\n",
        "from sklearn.linear_model import Lasso\n",
        "\n",
        "print('| Alpha     | MSE| change vs Lasso()| change vs LinearRegression()     |')\n",
        "print('| :---        |    :----:   |          :---: |---: |')\n",
        "\n",
        "for alpha in alpha_lasso:\n",
        "   model = Lasso(alpha=alpha)\n",
        "   fit = model.fit(X_train, y_train)\n",
        "\n",
        "   y_pred = model.predict(X_test)\n",
        "   mse = mean_squared_error(y_test, y_pred)\n",
        "   delta_lasso = percent_difference(case_3,mse)\n",
        "   delta_lr = percent_difference(base_mse,mse)\n",
        "   print(f'|{alpha}|{mse}|{delta_lasso:.3f}%|{delta_lr:.3f}%|')\n"
      ],
      "metadata": {
        "colab": {
          "base_uri": "https://localhost:8080/",
          "height": 0
        },
        "id": "TojrXal2iXpG",
        "outputId": "602e1fae-14e9-44ac-e434-8ca8849e13fa"
      },
      "execution_count": 26,
      "outputs": [
        {
          "output_type": "stream",
          "name": "stdout",
          "text": [
            "| Alpha     | MSE| change vs Lasso()| change vs LinearRegression()     |\n",
            "| :---        |    :----:   |          :---: |---: |\n",
            "|10|1.3759644077914204|41.885%|147.851%|\n",
            "|2|1.3762995217793714|41.920%|147.912%|\n",
            "|1.5|1.361604547179291|40.405%|145.265%|\n",
            "|5e-06|0.5551615369226126|-42.753%|0.001%|\n",
            "|5e-09|0.5551574242983756|-42.754%|0.000%|\n",
            "|5e-10|0.5551574205933917|-42.754%|0.000%|\n",
            "|5e-11|0.5551574202229115|-42.754%|0.000%|\n",
            "|5e-12|0.5551574201858652|-42.754%|0.000%|\n",
            "|5e-13|0.5551574201821607|-42.754%|0.000%|\n",
            "|5e-15|0.5551574201817531|-42.754%|0.000%|\n",
            "|5e-14|0.5551574201817902|-42.754%|0.000%|\n"
          ]
        }
      ]
    },
    {
      "cell_type": "markdown",
      "source": [
        "### Non-Linear Regression\n",
        "<li> Descision Tree Regression\n",
        "<li> Random Forest Regression\n",
        "<li> Gradient Boost Regression"
      ],
      "metadata": {
        "id": "S7YHsfaLktIv"
      }
    },
    {
      "cell_type": "markdown",
      "source": [
        "#### **Case 4: Decision Tree Regression**  <br>\n",
        "Ridge Regression model `from sklearn.tree import DecisionTreeRegressor` with no alterations or adjustments to the default hyperparameter. DTR performed significantly better than Linear Regression, reducing MSE by ~ 26.873%\n",
        "\n",
        "```\n",
        "model = DecisionTreeRegressor()\n",
        "```\n",
        "\n",
        "**Score:**\n",
        "\n",
        "```\n",
        "Mean Squared Error:  0.40596759394957366\n",
        "```"
      ],
      "metadata": {
        "id": "zCEy1oYAAsxs"
      }
    },
    {
      "cell_type": "markdown",
      "source": [
        "#### **Case 5: Random Forest Regression**  <br>\n",
        "Random Forest Regression model `from sklearn.ensemble import RandomForestRegressor` with no alterations or adjustments to the default hyperparameter. RFR performed significantly better than Linear Regression, reducing MSE by ~ 61%.\n",
        "\n",
        "```\n",
        "model = RandomForestRegressor()\n",
        "```\n",
        "\n",
        "**Score:**\n",
        "\n",
        "```\n",
        "Mean Squared Error:  0.2119276267504992\n",
        "\n",
        "```"
      ],
      "metadata": {
        "id": "YEszITWRAurX"
      }
    },
    {
      "cell_type": "markdown",
      "source": [
        "#### **Case 6: Gradient Boost**  <br>\n",
        "Ridge Regression model `from sklearn.ensemble import GradientBoostingRegressor` with no alterations or adjustments to the default hyperparameter. GB performed significantly better than Linear Regression, reducing MSE by ~ 54.777%\n",
        "\n",
        "\n",
        "``` \n",
        "model = GradientBoostingRegressor()\n",
        "```\n",
        "\n",
        "**Score:**\n",
        "\n",
        "```\n",
        "Mean Squared Error:  0.25105791245810666\n",
        "\n",
        "```"
      ],
      "metadata": {
        "id": "ygZu96NwAvCn"
      }
    },
    {
      "cell_type": "markdown",
      "source": [
        "#### Code Calulations"
      ],
      "metadata": {
        "id": "jJQ8MmOz1YiS"
      }
    },
    {
      "cell_type": "code",
      "source": [
        "dtr = 0.40596759394957366\n",
        "rfr = 0.2119276267504992\n",
        "gb = 0.25105791245810666\n",
        "\n",
        "print(f'Descision Tree: Percent change vs base: {percent_difference(base_mse,dtr):.3f}%')\n",
        "print(f'Random Forest: Percent change vs base: {percent_difference(base_mse,rfr):.3f}%')\n",
        "print(f'Gradient Boost: Percent change vs base: {percent_difference(base_mse,gb):.3f}%')"
      ],
      "metadata": {
        "colab": {
          "base_uri": "https://localhost:8080/",
          "height": 0
        },
        "id": "drTxwyIJ1TEH",
        "outputId": "ed9eacbd-00b2-4f4e-e33f-f82a2f575cca"
      },
      "execution_count": 32,
      "outputs": [
        {
          "output_type": "stream",
          "name": "stdout",
          "text": [
            "Descision Tree: Percent change vs base: -26.873%\n",
            "Random Forest: Percent change vs base: -61.826%\n",
            "Gradient Boost: Percent change vs base: -54.777%\n"
          ]
        }
      ]
    },
    {
      "cell_type": "code",
      "source": [],
      "metadata": {
        "id": "k8-_0usV1zDj"
      },
      "execution_count": null,
      "outputs": []
    },
    {
      "cell_type": "markdown",
      "source": [
        "SANDBOX BELOW: do not grade\n",
        "\n",
        "\n",
        "---\n",
        "\n",
        "\n",
        "\n",
        "---\n",
        "\n"
      ],
      "metadata": {
        "id": "5vOPvVua8rNQ"
      }
    },
    {
      "cell_type": "code",
      "source": [
        "###\n",
        "### Linear Regression Model\n",
        "### \n",
        "\n",
        "# def get_regression_model():\n",
        "#   \"\"\"\n",
        "#   Define and return the machine learning model.\n",
        "#   \"\"\"\n",
        "#   from sklearn.linear_model import LinearRegression\n",
        "#   model = LinearRegression()\n",
        "#   return model"
      ],
      "metadata": {
        "id": "sFk8Fbk9aFiR"
      },
      "execution_count": 22,
      "outputs": []
    },
    {
      "cell_type": "code",
      "source": [
        "##\n",
        "## Ridge Regression Model\n",
        "## \n",
        "\n",
        "# def get_regression_model():\n",
        "#   \"\"\"\n",
        "#   Define and return the machine learning model.\n",
        "#   \"\"\"\n",
        "#   from sklearn.linear_model import Ridge\n",
        "#   model = Ridge()\n",
        "#   return model"
      ],
      "metadata": {
        "id": "hjTvqJHl9NC9"
      },
      "execution_count": 24,
      "outputs": []
    },
    {
      "cell_type": "code",
      "source": [
        "###\n",
        "### Lasso Regression Model\n",
        "### \n",
        "\n",
        "# def get_regression_model():\n",
        "#   \"\"\"\n",
        "#   Define and return the machine learning model.\n",
        "#   \"\"\"\n",
        "#   from sklearn.linear_model import Lasso\n",
        "#   model = Lasso()  #empty, 10, 2, 0.000005,0.000000005, 0.0000000005,0.00000000005, 0.000000000005, 0.0000000000005,0.000000000000005, 0.00000000000005, 0.000000000000001 --> Error\n",
        "#   return model"
      ],
      "metadata": {
        "id": "g2MfrkJOnP-k"
      },
      "execution_count": 16,
      "outputs": []
    },
    {
      "cell_type": "code",
      "source": [
        "###\n",
        "### Decision Tree Regression Model\n",
        "### \n",
        "##Mean Squared Error:  0.40596759394957366\n",
        "\n",
        "# def get_regression_model():\n",
        "#   \"\"\"\n",
        "#   Define and return the machine learning model. \n",
        "#   \"\"\"\n",
        "#   from sklearn.tree import DecisionTreeRegressor\n",
        "#   model = DecisionTreeRegressor()\n",
        "#   return model"
      ],
      "metadata": {
        "id": "jnaDJPobbCZl"
      },
      "execution_count": 61,
      "outputs": []
    },
    {
      "cell_type": "code",
      "source": [
        "###\n",
        "### Gradient Boosting Regression Model\n",
        "### \n",
        "##Mean Squared Error:  0.25105791245810666\n",
        "# def get_regression_model():\n",
        "#   \"\"\"\n",
        "#   Define and return the machine learning model. \n",
        "#   \"\"\"\n",
        "#   from sklearn.ensemble import GradientBoostingRegressor\n",
        "#   model = GradientBoostingRegressor()\n",
        "#   return model"
      ],
      "metadata": {
        "id": "qYWOrSwTGVKH"
      },
      "execution_count": 65,
      "outputs": []
    },
    {
      "cell_type": "code",
      "source": [],
      "metadata": {
        "id": "id7hB4-R8vM9"
      },
      "execution_count": null,
      "outputs": []
    }
  ]
}